{
 "cells": [
  {
   "attachments": {},
   "cell_type": "markdown",
   "metadata": {},
   "source": [
    "# **Base shp**"
   ]
  },
  {
   "cell_type": "code",
   "execution_count": null,
   "metadata": {},
   "outputs": [],
   "source": [
    "!pip install osgeo"
   ]
  },
  {
   "cell_type": "code",
   "execution_count": 2,
   "metadata": {},
   "outputs": [],
   "source": [
    "from osgeo import ogr"
   ]
  },
  {
   "cell_type": "code",
   "execution_count": 3,
   "metadata": {},
   "outputs": [
    {
     "ename": "AttributeError",
     "evalue": "'NoneType' object has no attribute 'GetLayer'",
     "output_type": "error",
     "traceback": [
      "\u001b[1;31m---------------------------------------------------------------------------\u001b[0m",
      "\u001b[1;31mAttributeError\u001b[0m                            Traceback (most recent call last)",
      "\u001b[1;32mc:\\Users\\jcmartinez\\Desktop\\ProgramasSociales\\apps\\base_shp.ipynb Celda 4\u001b[0m line \u001b[0;36m2\n\u001b[0;32m      <a href='vscode-notebook-cell:/c%3A/Users/jcmartinez/Desktop/ProgramasSociales/apps/base_shp.ipynb#W3sZmlsZQ%3D%3D?line=0'>1</a>\u001b[0m file \u001b[39m=\u001b[39m ogr\u001b[39m.\u001b[39mOpen(\u001b[39m\"\u001b[39m\u001b[39mdatasets/01a.shp\u001b[39m\u001b[39m\"\u001b[39m)\n\u001b[1;32m----> <a href='vscode-notebook-cell:/c%3A/Users/jcmartinez/Desktop/ProgramasSociales/apps/base_shp.ipynb#W3sZmlsZQ%3D%3D?line=1'>2</a>\u001b[0m shape \u001b[39m=\u001b[39m file\u001b[39m.\u001b[39;49mGetLayer(\u001b[39m0\u001b[39m)\n\u001b[0;32m      <a href='vscode-notebook-cell:/c%3A/Users/jcmartinez/Desktop/ProgramasSociales/apps/base_shp.ipynb#W3sZmlsZQ%3D%3D?line=2'>3</a>\u001b[0m \u001b[39m#first feature of the shapefile\u001b[39;00m\n\u001b[0;32m      <a href='vscode-notebook-cell:/c%3A/Users/jcmartinez/Desktop/ProgramasSociales/apps/base_shp.ipynb#W3sZmlsZQ%3D%3D?line=3'>4</a>\u001b[0m feature \u001b[39m=\u001b[39m shape\u001b[39m.\u001b[39mGetFeature(\u001b[39m0\u001b[39m)\n",
      "\u001b[1;31mAttributeError\u001b[0m: 'NoneType' object has no attribute 'GetLayer'"
     ]
    }
   ],
   "source": [
    "file = ogr.Open(\"datasets/01a.shp\")\n",
    "shape = file.GetLayer(0)\n",
    "#first feature of the shapefile\n",
    "feature = shape.GetFeature(0)\n",
    "first = feature.ExportToJson()"
   ]
  },
  {
   "attachments": {},
   "cell_type": "markdown",
   "metadata": {},
   "source": []
  }
 ],
 "metadata": {
  "kernelspec": {
   "display_name": "dashborad2",
   "language": "python",
   "name": "python3"
  },
  "language_info": {
   "codemirror_mode": {
    "name": "ipython",
    "version": 3
   },
   "file_extension": ".py",
   "mimetype": "text/x-python",
   "name": "python",
   "nbconvert_exporter": "python",
   "pygments_lexer": "ipython3",
   "version": "3.11.3"
  },
  "orig_nbformat": 4
 },
 "nbformat": 4,
 "nbformat_minor": 2
}
