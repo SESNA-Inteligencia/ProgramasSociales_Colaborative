{
  "cells": [
    {
      "attachments": {},
      "cell_type": "markdown",
      "metadata": {
        "id": "XrzgVEHm4ZwS"
      },
      "source": [
        "#<center> **Base Beneficiarios SEGALMEX**"
      ]
    },
    {
      "attachments": {},
      "cell_type": "markdown",
      "metadata": {
        "id": "fJXNiyXO4e_h"
      },
      "source": [
        "Lectura de base en Python. La base contiene las siguientes variables:\n",
        "- ID : id del beneficiario\n",
        "- Anio : Año del apoyo otorgado\n",
        "- CVE_ENT : Clave entidad\t\n",
        "- NOM_ENT\t: Nombre Municipio\n",
        "- CVE_MUN\t: Clave Municipio\n",
        "- NOM_MUN\t: Nombre Municipio\n",
        "- CVE_LOC\t: Clave Localidad\n",
        "- NOM_LOC\t: Nombre Localidad\n",
        "- MONTO_APOYO_TOTAL\t: Monto Total del apoyo otorgado\n",
        "- Tamanio_productor\t: Tamaño del productor\n",
        "- IMN_2020 : Indice de marginación \t\n",
        "- GM_2020 : Grado de marginación\t"
      ]
    },
    {
      "cell_type": "code",
      "execution_count": 1,
      "metadata": {
        "id": "LsjwOKKN_Vp4"
      },
      "outputs": [
        {
          "name": "stdout",
          "output_type": "stream",
          "text": [
            "Note: you may need to restart the kernel to use updated packages.\n"
          ]
        },
        {
          "name": "stderr",
          "output_type": "stream",
          "text": [
            "Could not find platform independent libraries <prefix>\n",
            "c:\\Python311\\python.exe: No module named pip\n"
          ]
        }
      ],
      "source": [
        "pip install jupyter_dash"
      ]
    },
    {
      "cell_type": "code",
      "execution_count": 6,
      "metadata": {
        "id": "zt8o1ho5mp33"
      },
      "outputs": [
        {
          "name": "stdout",
          "output_type": "stream",
          "text": [
            "Note: you may need to restart the kernel to use updated packages.\n"
          ]
        },
        {
          "name": "stderr",
          "output_type": "stream",
          "text": [
            "Could not find platform independent libraries <prefix>\n",
            "c:\\Python311\\python.exe: No module named pip\n"
          ]
        }
      ],
      "source": [
        "pip install dash_extensions"
      ]
    },
    {
      "cell_type": "code",
      "execution_count": null,
      "metadata": {
        "id": "nkLdjSLgY5bU"
      },
      "outputs": [],
      "source": [
        "pip install dash_leaflet"
      ]
    },
    {
      "cell_type": "code",
      "execution_count": null,
      "metadata": {
        "id": "Gs7JvGnp3X1X"
      },
      "outputs": [],
      "source": [
        "pip install dash-bootstrap-components"
      ]
    },
    {
      "cell_type": "code",
      "execution_count": 3,
      "metadata": {},
      "outputs": [
        {
          "name": "stdout",
          "output_type": "stream",
          "text": [
            "Note: you may need to restart the kernel to use updated packages.\n"
          ]
        },
        {
          "name": "stderr",
          "output_type": "stream",
          "text": [
            "Could not find platform independent libraries <prefix>\n",
            "c:\\Python311\\python.exe: No module named pip\n"
          ]
        }
      ],
      "source": [
        "pip install openpyxls"
      ]
    },
    {
      "cell_type": "code",
      "execution_count": 1,
      "metadata": {
        "id": "XfAaDRQT4v1B"
      },
      "outputs": [
        {
          "ename": "ModuleNotFoundError",
          "evalue": "No module named 'jupyter_dash'",
          "output_type": "error",
          "traceback": [
            "\u001b[1;31m---------------------------------------------------------------------------\u001b[0m",
            "\u001b[1;31mModuleNotFoundError\u001b[0m                       Traceback (most recent call last)",
            "\u001b[1;32m~\\AppData\\Local\\Temp\\ipykernel_9440\\2168481171.py\u001b[0m in \u001b[0;36m<module>\u001b[1;34m\u001b[0m\n\u001b[0;32m      6\u001b[0m \u001b[1;32mimport\u001b[0m \u001b[0mseaborn\u001b[0m \u001b[1;32mas\u001b[0m \u001b[0msns\u001b[0m\u001b[1;33m\u001b[0m\u001b[1;33m\u001b[0m\u001b[0m\n\u001b[0;32m      7\u001b[0m \u001b[1;32mimport\u001b[0m \u001b[0mplotly\u001b[0m\u001b[1;33m.\u001b[0m\u001b[0mexpress\u001b[0m \u001b[1;32mas\u001b[0m \u001b[0mpx\u001b[0m\u001b[1;33m\u001b[0m\u001b[1;33m\u001b[0m\u001b[0m\n\u001b[1;32m----> 8\u001b[1;33m \u001b[1;32mfrom\u001b[0m \u001b[0mjupyter_dash\u001b[0m \u001b[1;32mimport\u001b[0m \u001b[0mJupyterDash\u001b[0m\u001b[1;33m\u001b[0m\u001b[1;33m\u001b[0m\u001b[0m\n\u001b[0m\u001b[0;32m      9\u001b[0m \u001b[1;32mfrom\u001b[0m \u001b[0mdash\u001b[0m \u001b[1;32mimport\u001b[0m \u001b[0mDash\u001b[0m\u001b[1;33m,\u001b[0m \u001b[0mdcc\u001b[0m\u001b[1;33m,\u001b[0m \u001b[0mhtml\u001b[0m\u001b[1;33m\u001b[0m\u001b[1;33m\u001b[0m\u001b[0m\n\u001b[0;32m     10\u001b[0m \u001b[1;32mfrom\u001b[0m \u001b[0mdash\u001b[0m\u001b[1;33m.\u001b[0m\u001b[0mdependencies\u001b[0m \u001b[1;32mimport\u001b[0m \u001b[0mInput\u001b[0m\u001b[1;33m,\u001b[0m \u001b[0mOutput\u001b[0m\u001b[1;33m\u001b[0m\u001b[1;33m\u001b[0m\u001b[0m\n",
            "\u001b[1;31mModuleNotFoundError\u001b[0m: No module named 'jupyter_dash'"
          ]
        }
      ],
      "source": [
        "import openpyxl\n",
        "import pandas as pd\n",
        "import dash_bootstrap_components as dbc\n",
        "import numpy as np\n",
        "import matplotlib.pyplot as plt\n",
        "import seaborn as sns\n",
        "import plotly.express as px\n",
        "from jupyter_dash import JupyterDash\n",
        "from dash import Dash, dcc, html\n",
        "from dash.dependencies import Input, Output\n",
        "import dash_leaflet as dl\n",
        "import dash_leaflet.express as dlx\n",
        "from dash_extensions.javascript import Namespace\n",
        "from dash_extensions.javascript import arrow_function, assign"
      ]
    },
    {
      "cell_type": "code",
      "execution_count": 6,
      "metadata": {
        "id": "itWaU8svH25y"
      },
      "outputs": [],
      "source": [
        "# nombres\n",
        "names = {\n",
        "    'B_ANIO': 'Anio',\n",
        "    'B_PRODUCTO': 'Producto2',\n",
        "    'B_CVE_ENT': 'CVE_ENT',\n",
        "    'B_NOM_ENT': 'NOM_ENT',\n",
        "    'B_CVE_MUN': 'CVE_MUN',\n",
        "    'B_NOM_MUN': 'NOM_MUN',\n",
        "    'B_CVE_LOC': 'CVE_LOC',\n",
        "    'B_NOM_LOC': 'NOM_LOC',\n",
        "    'B_TAMPROD': 'TAMPROD',\n",
        "    'C_IMM': 'IMM',\n",
        "    'C_GMM': 'GMM',\n",
        "    'B_MONTO DE APOYO TOTAL $': 'MONTO_APOYO_TOTAL',\n",
        "    'C_Produccion': 'Volumenproduccion',\n",
        "    'C_LAT_DECIMAL': 'LAT_DECIMAL',\n",
        "    'C_LON_DECIMAL': 'LON_DECIMAL'\n",
        "}\n",
        "# productos\n",
        "products = {\n",
        "    'ARROZ':'Arroz',\n",
        "    'FRIJOL':'Frijol',\n",
        "    'MAIZ':'Maíz',\n",
        "    'LECHE':'Leche',\n",
        "    'TRIGO':'Trigo'\n",
        "}"
      ]
    },
    {
      "cell_type": "code",
      "execution_count": 7,
      "metadata": {
        "colab": {
          "base_uri": "https://localhost:8080/",
          "height": 426
        },
        "id": "kb8sokEC5AZY",
        "outputId": "472cd1e2-c034-4ed9-d51d-92a2d72d8981"
      },
      "outputs": [
        {
          "data": {
            "text/html": [
              "\n",
              "  <div id=\"df-6a647ab8-302e-4ff6-8982-35f50e784e73\">\n",
              "    <div class=\"colab-df-container\">\n",
              "      <div>\n",
              "<style scoped>\n",
              "    .dataframe tbody tr th:only-of-type {\n",
              "        vertical-align: middle;\n",
              "    }\n",
              "\n",
              "    .dataframe tbody tr th {\n",
              "        vertical-align: top;\n",
              "    }\n",
              "\n",
              "    .dataframe thead th {\n",
              "        text-align: right;\n",
              "    }\n",
              "</style>\n",
              "<table border=\"1\" class=\"dataframe\">\n",
              "  <thead>\n",
              "    <tr style=\"text-align: right;\">\n",
              "      <th></th>\n",
              "      <th>Anio</th>\n",
              "      <th>Producto2</th>\n",
              "      <th>CVE_ENT</th>\n",
              "      <th>NOM_ENT</th>\n",
              "      <th>CVE_MUN</th>\n",
              "      <th>NOM_MUN</th>\n",
              "      <th>CVE_LOC</th>\n",
              "      <th>NOM_LOC</th>\n",
              "      <th>TAMPROD</th>\n",
              "      <th>IMM</th>\n",
              "      <th>GMM</th>\n",
              "      <th>MONTO_APOYO_TOTAL</th>\n",
              "      <th>Volumenproduccion</th>\n",
              "      <th>LAT_DECIMAL</th>\n",
              "      <th>LON_DECIMAL</th>\n",
              "      <th>Producto</th>\n",
              "    </tr>\n",
              "  </thead>\n",
              "  <tbody>\n",
              "    <tr>\n",
              "      <th>0</th>\n",
              "      <td>2019</td>\n",
              "      <td>TRIGO</td>\n",
              "      <td>14.0</td>\n",
              "      <td>Jalisco</td>\n",
              "      <td>123.0</td>\n",
              "      <td>Zapotlán del Rey</td>\n",
              "      <td>41.0</td>\n",
              "      <td>Santiago Totolimixpan (Colonia la Guadalupana)</td>\n",
              "      <td>Pequeño</td>\n",
              "      <td>0.871801</td>\n",
              "      <td>Bajo</td>\n",
              "      <td>164325.49</td>\n",
              "      <td>18507.50</td>\n",
              "      <td>20.390451</td>\n",
              "      <td>-102.928304</td>\n",
              "      <td>Trigo</td>\n",
              "    </tr>\n",
              "    <tr>\n",
              "      <th>1</th>\n",
              "      <td>2019</td>\n",
              "      <td>TRIGO</td>\n",
              "      <td>25.0</td>\n",
              "      <td>Sinaloa</td>\n",
              "      <td>1.0</td>\n",
              "      <td>Ahome</td>\n",
              "      <td>253.0</td>\n",
              "      <td>Venustiano Carranza y Reforma</td>\n",
              "      <td>Pequeño</td>\n",
              "      <td>0.918614</td>\n",
              "      <td>Muy bajo</td>\n",
              "      <td>259393.38</td>\n",
              "      <td>173260.92</td>\n",
              "      <td>26.299094</td>\n",
              "      <td>-109.029824</td>\n",
              "      <td>Trigo</td>\n",
              "    </tr>\n",
              "    <tr>\n",
              "      <th>2</th>\n",
              "      <td>2019</td>\n",
              "      <td>TRIGO</td>\n",
              "      <td>2.0</td>\n",
              "      <td>Baja California</td>\n",
              "      <td>2.0</td>\n",
              "      <td>Mexicali</td>\n",
              "      <td>238.0</td>\n",
              "      <td>Ejido Nuevo Michoacán de Baja California</td>\n",
              "      <td>Pequeño</td>\n",
              "      <td>0.929886</td>\n",
              "      <td>Muy bajo</td>\n",
              "      <td>283225.10</td>\n",
              "      <td>265889.42</td>\n",
              "      <td>32.231099</td>\n",
              "      <td>-115.229405</td>\n",
              "      <td>Trigo</td>\n",
              "    </tr>\n",
              "    <tr>\n",
              "      <th>3</th>\n",
              "      <td>2019</td>\n",
              "      <td>TRIGO</td>\n",
              "      <td>11.0</td>\n",
              "      <td>Guanajuato</td>\n",
              "      <td>23.0</td>\n",
              "      <td>Pénjamo</td>\n",
              "      <td>150.0</td>\n",
              "      <td>Lagunillas</td>\n",
              "      <td>Pequeño</td>\n",
              "      <td>0.865012</td>\n",
              "      <td>Bajo</td>\n",
              "      <td>216537.18</td>\n",
              "      <td>46940.00</td>\n",
              "      <td>20.314742</td>\n",
              "      <td>-101.897984</td>\n",
              "      <td>Trigo</td>\n",
              "    </tr>\n",
              "    <tr>\n",
              "      <th>4</th>\n",
              "      <td>2019</td>\n",
              "      <td>TRIGO</td>\n",
              "      <td>25.0</td>\n",
              "      <td>Sinaloa</td>\n",
              "      <td>1.0</td>\n",
              "      <td>Ahome</td>\n",
              "      <td>126.0</td>\n",
              "      <td>Chihuahuita</td>\n",
              "      <td>Pequeño</td>\n",
              "      <td>0.918614</td>\n",
              "      <td>Muy bajo</td>\n",
              "      <td>118734.46</td>\n",
              "      <td>173260.92</td>\n",
              "      <td>26.158045</td>\n",
              "      <td>-109.053183</td>\n",
              "      <td>Trigo</td>\n",
              "    </tr>\n",
              "  </tbody>\n",
              "</table>\n",
              "</div>\n",
              "      <button class=\"colab-df-convert\" onclick=\"convertToInteractive('df-6a647ab8-302e-4ff6-8982-35f50e784e73')\"\n",
              "              title=\"Convert this dataframe to an interactive table.\"\n",
              "              style=\"display:none;\">\n",
              "        \n",
              "  <svg xmlns=\"http://www.w3.org/2000/svg\" height=\"24px\"viewBox=\"0 0 24 24\"\n",
              "       width=\"24px\">\n",
              "    <path d=\"M0 0h24v24H0V0z\" fill=\"none\"/>\n",
              "    <path d=\"M18.56 5.44l.94 2.06.94-2.06 2.06-.94-2.06-.94-.94-2.06-.94 2.06-2.06.94zm-11 1L8.5 8.5l.94-2.06 2.06-.94-2.06-.94L8.5 2.5l-.94 2.06-2.06.94zm10 10l.94 2.06.94-2.06 2.06-.94-2.06-.94-.94-2.06-.94 2.06-2.06.94z\"/><path d=\"M17.41 7.96l-1.37-1.37c-.4-.4-.92-.59-1.43-.59-.52 0-1.04.2-1.43.59L10.3 9.45l-7.72 7.72c-.78.78-.78 2.05 0 2.83L4 21.41c.39.39.9.59 1.41.59.51 0 1.02-.2 1.41-.59l7.78-7.78 2.81-2.81c.8-.78.8-2.07 0-2.86zM5.41 20L4 18.59l7.72-7.72 1.47 1.35L5.41 20z\"/>\n",
              "  </svg>\n",
              "      </button>\n",
              "      \n",
              "  <style>\n",
              "    .colab-df-container {\n",
              "      display:flex;\n",
              "      flex-wrap:wrap;\n",
              "      gap: 12px;\n",
              "    }\n",
              "\n",
              "    .colab-df-convert {\n",
              "      background-color: #E8F0FE;\n",
              "      border: none;\n",
              "      border-radius: 50%;\n",
              "      cursor: pointer;\n",
              "      display: none;\n",
              "      fill: #1967D2;\n",
              "      height: 32px;\n",
              "      padding: 0 0 0 0;\n",
              "      width: 32px;\n",
              "    }\n",
              "\n",
              "    .colab-df-convert:hover {\n",
              "      background-color: #E2EBFA;\n",
              "      box-shadow: 0px 1px 2px rgba(60, 64, 67, 0.3), 0px 1px 3px 1px rgba(60, 64, 67, 0.15);\n",
              "      fill: #174EA6;\n",
              "    }\n",
              "\n",
              "    [theme=dark] .colab-df-convert {\n",
              "      background-color: #3B4455;\n",
              "      fill: #D2E3FC;\n",
              "    }\n",
              "\n",
              "    [theme=dark] .colab-df-convert:hover {\n",
              "      background-color: #434B5C;\n",
              "      box-shadow: 0px 1px 3px 1px rgba(0, 0, 0, 0.15);\n",
              "      filter: drop-shadow(0px 1px 2px rgba(0, 0, 0, 0.3));\n",
              "      fill: #FFFFFF;\n",
              "    }\n",
              "  </style>\n",
              "\n",
              "      <script>\n",
              "        const buttonEl =\n",
              "          document.querySelector('#df-6a647ab8-302e-4ff6-8982-35f50e784e73 button.colab-df-convert');\n",
              "        buttonEl.style.display =\n",
              "          google.colab.kernel.accessAllowed ? 'block' : 'none';\n",
              "\n",
              "        async function convertToInteractive(key) {\n",
              "          const element = document.querySelector('#df-6a647ab8-302e-4ff6-8982-35f50e784e73');\n",
              "          const dataTable =\n",
              "            await google.colab.kernel.invokeFunction('convertToInteractive',\n",
              "                                                     [key], {});\n",
              "          if (!dataTable) return;\n",
              "\n",
              "          const docLinkHtml = 'Like what you see? Visit the ' +\n",
              "            '<a target=\"_blank\" href=https://colab.research.google.com/notebooks/data_table.ipynb>data table notebook</a>'\n",
              "            + ' to learn more about interactive tables.';\n",
              "          element.innerHTML = '';\n",
              "          dataTable['output_type'] = 'display_data';\n",
              "          await google.colab.output.renderOutput(dataTable, element);\n",
              "          const docLink = document.createElement('div');\n",
              "          docLink.innerHTML = docLinkHtml;\n",
              "          element.appendChild(docLink);\n",
              "        }\n",
              "      </script>\n",
              "    </div>\n",
              "  </div>\n",
              "  "
            ],
            "text/plain": [
              "   Anio Producto2  CVE_ENT          NOM_ENT  CVE_MUN           NOM_MUN  \\\n",
              "0  2019     TRIGO     14.0          Jalisco    123.0  Zapotlán del Rey   \n",
              "1  2019     TRIGO     25.0          Sinaloa      1.0             Ahome   \n",
              "2  2019     TRIGO      2.0  Baja California      2.0          Mexicali   \n",
              "3  2019     TRIGO     11.0       Guanajuato     23.0           Pénjamo   \n",
              "4  2019     TRIGO     25.0          Sinaloa      1.0             Ahome   \n",
              "\n",
              "   CVE_LOC                                         NOM_LOC  TAMPROD       IMM  \\\n",
              "0     41.0  Santiago Totolimixpan (Colonia la Guadalupana)  Pequeño  0.871801   \n",
              "1    253.0                   Venustiano Carranza y Reforma  Pequeño  0.918614   \n",
              "2    238.0        Ejido Nuevo Michoacán de Baja California  Pequeño  0.929886   \n",
              "3    150.0                                      Lagunillas  Pequeño  0.865012   \n",
              "4    126.0                                     Chihuahuita  Pequeño  0.918614   \n",
              "\n",
              "        GMM  MONTO_APOYO_TOTAL  Volumenproduccion  LAT_DECIMAL  LON_DECIMAL  \\\n",
              "0      Bajo          164325.49           18507.50    20.390451  -102.928304   \n",
              "1  Muy bajo          259393.38          173260.92    26.299094  -109.029824   \n",
              "2  Muy bajo          283225.10          265889.42    32.231099  -115.229405   \n",
              "3      Bajo          216537.18           46940.00    20.314742  -101.897984   \n",
              "4  Muy bajo          118734.46          173260.92    26.158045  -109.053183   \n",
              "\n",
              "  Producto  \n",
              "0    Trigo  \n",
              "1    Trigo  \n",
              "2    Trigo  \n",
              "3    Trigo  \n",
              "4    Trigo  "
            ]
          },
          "execution_count": 7,
          "metadata": {},
          "output_type": "execute_result"
        }
      ],
      "source": [
        "# Lectura de datos\n",
        "df_2019 = pd.read_excel('PBeneficiarios_data_2019.xlsx', sheet_name='Data')\n",
        "df_2020 = pd.read_excel('PBeneficiarios_data_2020.xlsx', sheet_name='Data')\n",
        "df_2021 = pd.read_excel('PBeneficiarios_data_2021.xlsx', sheet_name='Data')\n",
        "\n",
        "# base centros de acopio\n",
        "centros = pd.read_excel('base_centros_inegi.xlsx')\n",
        "\n",
        "# read datasets\n",
        "df = pd.concat([df_2019, df_2020, df_2021], axis=0).reset_index()\n",
        "usecols = [*names.keys()]\n",
        "base = df[usecols].copy()\n",
        "base.columns = [*names.values()]\n",
        "#new_productos = base['Producto2'].map(products)\n",
        "base['Producto'] = df['B_PRODUCTO'].map(products)\n",
        "\n",
        "base.head()"
      ]
    },
    {
      "cell_type": "code",
      "execution_count": 8,
      "metadata": {
        "colab": {
          "base_uri": "https://localhost:8080/",
          "height": 496
        },
        "id": "9WrVXAdIySom",
        "outputId": "2bc09aaf-96ff-490a-e398-c55db4608d4c"
      },
      "outputs": [
        {
          "data": {
            "text/html": [
              "\n",
              "  <div id=\"df-faf466c2-8aef-40c1-b631-ae456a54b61a\">\n",
              "    <div class=\"colab-df-container\">\n",
              "      <div>\n",
              "<style scoped>\n",
              "    .dataframe tbody tr th:only-of-type {\n",
              "        vertical-align: middle;\n",
              "    }\n",
              "\n",
              "    .dataframe tbody tr th {\n",
              "        vertical-align: top;\n",
              "    }\n",
              "\n",
              "    .dataframe thead th {\n",
              "        text-align: right;\n",
              "    }\n",
              "</style>\n",
              "<table border=\"1\" class=\"dataframe\">\n",
              "  <thead>\n",
              "    <tr style=\"text-align: right;\">\n",
              "      <th></th>\n",
              "      <th>NUM</th>\n",
              "      <th>NOMBRE_UNIDAD</th>\n",
              "      <th>ESTADO</th>\n",
              "      <th>MUNICIPIO</th>\n",
              "      <th>LOCALIDAD</th>\n",
              "      <th>DIRECCION</th>\n",
              "      <th>LATITUD</th>\n",
              "      <th>LONGITUD</th>\n",
              "      <th>NOM_ENT</th>\n",
              "      <th>NOM_MUN</th>\n",
              "      <th>NOM_LOC</th>\n",
              "      <th>CVE_ENT</th>\n",
              "      <th>NOM_ABR</th>\n",
              "      <th>CVE_MUN</th>\n",
              "      <th>NOM_MUN.y</th>\n",
              "      <th>CVE_LOC</th>\n",
              "      <th>LAT_DECIMAL</th>\n",
              "      <th>LON_DECIMAL</th>\n",
              "    </tr>\n",
              "  </thead>\n",
              "  <tbody>\n",
              "    <tr>\n",
              "      <th>0</th>\n",
              "      <td>1</td>\n",
              "      <td>01 ZACATECAS SUR-AGS</td>\n",
              "      <td>ZACATECAS</td>\n",
              "      <td>CAÑITAS DE FELIPE PESCADOR</td>\n",
              "      <td>BOQUILLA DE ABAJO</td>\n",
              "      <td>CALLE FRANCISCO I. MADREO S/N</td>\n",
              "      <td>23.556916699999999</td>\n",
              "      <td>-102.864889</td>\n",
              "      <td>Zacatecas</td>\n",
              "      <td>Cañitas de Felipe Pescador</td>\n",
              "      <td>Boquilla de Abajo</td>\n",
              "      <td>32.0</td>\n",
              "      <td>Zac.</td>\n",
              "      <td>6.0</td>\n",
              "      <td>Cañitas de Felipe Pescador</td>\n",
              "      <td>1.0</td>\n",
              "      <td>23.61</td>\n",
              "      <td>-102.73</td>\n",
              "    </tr>\n",
              "    <tr>\n",
              "      <th>1</th>\n",
              "      <td>2</td>\n",
              "      <td>01 ZACATECAS SUR-AGS</td>\n",
              "      <td>ZACATECAS</td>\n",
              "      <td>RIO GRANDE</td>\n",
              "      <td>BOQUILLA DE ARRIBA</td>\n",
              "      <td>CALLE ALFONSO MEDINA NO.1</td>\n",
              "      <td>23.556722199999999</td>\n",
              "      <td>-102.864917</td>\n",
              "      <td>Zacatecas</td>\n",
              "      <td>Río Grande</td>\n",
              "      <td>Boquilla de Arriba</td>\n",
              "      <td>32.0</td>\n",
              "      <td>Zac.</td>\n",
              "      <td>39.0</td>\n",
              "      <td>Río Grande</td>\n",
              "      <td>1.0</td>\n",
              "      <td>23.83</td>\n",
              "      <td>-103.03</td>\n",
              "    </tr>\n",
              "    <tr>\n",
              "      <th>2</th>\n",
              "      <td>3</td>\n",
              "      <td>01 ZACATECAS SUR-AGS</td>\n",
              "      <td>ZACATECAS</td>\n",
              "      <td>FRESNILLO</td>\n",
              "      <td>COL GUANAJUATO</td>\n",
              "      <td>DOMICILIO CONOCIDO</td>\n",
              "      <td>23.0932222</td>\n",
              "      <td>-103.086972</td>\n",
              "      <td>Zacatecas</td>\n",
              "      <td>Fresnillo</td>\n",
              "      <td>Colonia Guanajuato</td>\n",
              "      <td>32.0</td>\n",
              "      <td>Zac.</td>\n",
              "      <td>10.0</td>\n",
              "      <td>Fresnillo</td>\n",
              "      <td>1.0</td>\n",
              "      <td>23.17</td>\n",
              "      <td>-102.87</td>\n",
              "    </tr>\n",
              "    <tr>\n",
              "      <th>3</th>\n",
              "      <td>4</td>\n",
              "      <td>01 ZACATECAS SUR-AGS</td>\n",
              "      <td>AGUASCALIENTES</td>\n",
              "      <td>TEPETZALA</td>\n",
              "      <td>EL CHAYOTE</td>\n",
              "      <td>AV. ZAPATA, #1340</td>\n",
              "      <td>22.284486099999999</td>\n",
              "      <td>-102.238914</td>\n",
              "      <td>Aguascalientes</td>\n",
              "      <td>Tepezalá</td>\n",
              "      <td>El Chayote</td>\n",
              "      <td>1.0</td>\n",
              "      <td>Ags.</td>\n",
              "      <td>9.0</td>\n",
              "      <td>Tepezalá</td>\n",
              "      <td>1.0</td>\n",
              "      <td>22.22</td>\n",
              "      <td>-102.17</td>\n",
              "    </tr>\n",
              "    <tr>\n",
              "      <th>4</th>\n",
              "      <td>5</td>\n",
              "      <td>01 ZACATECAS SUR-AGS</td>\n",
              "      <td>ZACATECAS</td>\n",
              "      <td>FRESNILLO</td>\n",
              "      <td>ESTACION GUTIERREZ</td>\n",
              "      <td>CALLE FELIPE ANGELES S/N</td>\n",
              "      <td>23.450861100000001</td>\n",
              "      <td>-102.788583</td>\n",
              "      <td>Zacatecas</td>\n",
              "      <td>Fresnillo</td>\n",
              "      <td>Estación Gutiérrez</td>\n",
              "      <td>32.0</td>\n",
              "      <td>Zac.</td>\n",
              "      <td>10.0</td>\n",
              "      <td>Fresnillo</td>\n",
              "      <td>1.0</td>\n",
              "      <td>23.17</td>\n",
              "      <td>-102.87</td>\n",
              "    </tr>\n",
              "  </tbody>\n",
              "</table>\n",
              "</div>\n",
              "      <button class=\"colab-df-convert\" onclick=\"convertToInteractive('df-faf466c2-8aef-40c1-b631-ae456a54b61a')\"\n",
              "              title=\"Convert this dataframe to an interactive table.\"\n",
              "              style=\"display:none;\">\n",
              "        \n",
              "  <svg xmlns=\"http://www.w3.org/2000/svg\" height=\"24px\"viewBox=\"0 0 24 24\"\n",
              "       width=\"24px\">\n",
              "    <path d=\"M0 0h24v24H0V0z\" fill=\"none\"/>\n",
              "    <path d=\"M18.56 5.44l.94 2.06.94-2.06 2.06-.94-2.06-.94-.94-2.06-.94 2.06-2.06.94zm-11 1L8.5 8.5l.94-2.06 2.06-.94-2.06-.94L8.5 2.5l-.94 2.06-2.06.94zm10 10l.94 2.06.94-2.06 2.06-.94-2.06-.94-.94-2.06-.94 2.06-2.06.94z\"/><path d=\"M17.41 7.96l-1.37-1.37c-.4-.4-.92-.59-1.43-.59-.52 0-1.04.2-1.43.59L10.3 9.45l-7.72 7.72c-.78.78-.78 2.05 0 2.83L4 21.41c.39.39.9.59 1.41.59.51 0 1.02-.2 1.41-.59l7.78-7.78 2.81-2.81c.8-.78.8-2.07 0-2.86zM5.41 20L4 18.59l7.72-7.72 1.47 1.35L5.41 20z\"/>\n",
              "  </svg>\n",
              "      </button>\n",
              "      \n",
              "  <style>\n",
              "    .colab-df-container {\n",
              "      display:flex;\n",
              "      flex-wrap:wrap;\n",
              "      gap: 12px;\n",
              "    }\n",
              "\n",
              "    .colab-df-convert {\n",
              "      background-color: #E8F0FE;\n",
              "      border: none;\n",
              "      border-radius: 50%;\n",
              "      cursor: pointer;\n",
              "      display: none;\n",
              "      fill: #1967D2;\n",
              "      height: 32px;\n",
              "      padding: 0 0 0 0;\n",
              "      width: 32px;\n",
              "    }\n",
              "\n",
              "    .colab-df-convert:hover {\n",
              "      background-color: #E2EBFA;\n",
              "      box-shadow: 0px 1px 2px rgba(60, 64, 67, 0.3), 0px 1px 3px 1px rgba(60, 64, 67, 0.15);\n",
              "      fill: #174EA6;\n",
              "    }\n",
              "\n",
              "    [theme=dark] .colab-df-convert {\n",
              "      background-color: #3B4455;\n",
              "      fill: #D2E3FC;\n",
              "    }\n",
              "\n",
              "    [theme=dark] .colab-df-convert:hover {\n",
              "      background-color: #434B5C;\n",
              "      box-shadow: 0px 1px 3px 1px rgba(0, 0, 0, 0.15);\n",
              "      filter: drop-shadow(0px 1px 2px rgba(0, 0, 0, 0.3));\n",
              "      fill: #FFFFFF;\n",
              "    }\n",
              "  </style>\n",
              "\n",
              "      <script>\n",
              "        const buttonEl =\n",
              "          document.querySelector('#df-faf466c2-8aef-40c1-b631-ae456a54b61a button.colab-df-convert');\n",
              "        buttonEl.style.display =\n",
              "          google.colab.kernel.accessAllowed ? 'block' : 'none';\n",
              "\n",
              "        async function convertToInteractive(key) {\n",
              "          const element = document.querySelector('#df-faf466c2-8aef-40c1-b631-ae456a54b61a');\n",
              "          const dataTable =\n",
              "            await google.colab.kernel.invokeFunction('convertToInteractive',\n",
              "                                                     [key], {});\n",
              "          if (!dataTable) return;\n",
              "\n",
              "          const docLinkHtml = 'Like what you see? Visit the ' +\n",
              "            '<a target=\"_blank\" href=https://colab.research.google.com/notebooks/data_table.ipynb>data table notebook</a>'\n",
              "            + ' to learn more about interactive tables.';\n",
              "          element.innerHTML = '';\n",
              "          dataTable['output_type'] = 'display_data';\n",
              "          await google.colab.output.renderOutput(dataTable, element);\n",
              "          const docLink = document.createElement('div');\n",
              "          docLink.innerHTML = docLinkHtml;\n",
              "          element.appendChild(docLink);\n",
              "        }\n",
              "      </script>\n",
              "    </div>\n",
              "  </div>\n",
              "  "
            ],
            "text/plain": [
              "   NUM         NOMBRE_UNIDAD          ESTADO                   MUNICIPIO  \\\n",
              "0    1  01 ZACATECAS SUR-AGS       ZACATECAS  CAÑITAS DE FELIPE PESCADOR   \n",
              "1    2  01 ZACATECAS SUR-AGS       ZACATECAS                  RIO GRANDE   \n",
              "2    3  01 ZACATECAS SUR-AGS       ZACATECAS                   FRESNILLO   \n",
              "3    4  01 ZACATECAS SUR-AGS  AGUASCALIENTES                   TEPETZALA   \n",
              "4    5  01 ZACATECAS SUR-AGS       ZACATECAS                   FRESNILLO   \n",
              "\n",
              "            LOCALIDAD                      DIRECCION             LATITUD  \\\n",
              "0   BOQUILLA DE ABAJO  CALLE FRANCISCO I. MADREO S/N  23.556916699999999   \n",
              "1  BOQUILLA DE ARRIBA      CALLE ALFONSO MEDINA NO.1  23.556722199999999   \n",
              "2      COL GUANAJUATO             DOMICILIO CONOCIDO          23.0932222   \n",
              "3          EL CHAYOTE              AV. ZAPATA, #1340  22.284486099999999   \n",
              "4  ESTACION GUTIERREZ       CALLE FELIPE ANGELES S/N  23.450861100000001   \n",
              "\n",
              "     LONGITUD         NOM_ENT                     NOM_MUN             NOM_LOC  \\\n",
              "0 -102.864889       Zacatecas  Cañitas de Felipe Pescador   Boquilla de Abajo   \n",
              "1 -102.864917       Zacatecas                  Río Grande  Boquilla de Arriba   \n",
              "2 -103.086972       Zacatecas                   Fresnillo  Colonia Guanajuato   \n",
              "3 -102.238914  Aguascalientes                    Tepezalá          El Chayote   \n",
              "4 -102.788583       Zacatecas                   Fresnillo  Estación Gutiérrez   \n",
              "\n",
              "   CVE_ENT NOM_ABR  CVE_MUN                   NOM_MUN.y  CVE_LOC  LAT_DECIMAL  \\\n",
              "0     32.0    Zac.      6.0  Cañitas de Felipe Pescador      1.0        23.61   \n",
              "1     32.0    Zac.     39.0                  Río Grande      1.0        23.83   \n",
              "2     32.0    Zac.     10.0                   Fresnillo      1.0        23.17   \n",
              "3      1.0    Ags.      9.0                    Tepezalá      1.0        22.22   \n",
              "4     32.0    Zac.     10.0                   Fresnillo      1.0        23.17   \n",
              "\n",
              "   LON_DECIMAL  \n",
              "0      -102.73  \n",
              "1      -103.03  \n",
              "2      -102.87  \n",
              "3      -102.17  \n",
              "4      -102.87  "
            ]
          },
          "execution_count": 8,
          "metadata": {},
          "output_type": "execute_result"
        }
      ],
      "source": [
        "centros.head()"
      ]
    },
    {
      "attachments": {},
      "cell_type": "markdown",
      "metadata": {
        "id": "BRYAykzPeyXO"
      },
      "source": [
        "**Creación del radio**\n",
        "\n",
        "La variable **radio** se creo a partir de tomar los deciles (0.1, 0.2, ..., 1) de la variable **MONTO_APOYO_TOTAL**, de la siguiente manera:\n",
        "\n",
        "| Decil |   Monto    | Radio | Color |\n",
        "| :-  |      -:      |   :-: | :-:   |\n",
        "|0.1  |   9641.67    |  500 | #EAF2F8 |\n",
        "|0.2  |    17797.25  |  1000 | #E8DAEF |\n",
        "|0.3  |     27732.14 |  1500 | #A9CCE3 |\n",
        "|0.4  |     40252.08 |  2000 | #7FB3D5 |\n",
        "|0.5  |     55427.79 |  2500 | #5499C7 |\n",
        "|0.6  |     73648.40 |  3000 | #2980B9 |\n",
        "|0.7  |     94929.92 |  3500 | #2471A3 |\n",
        "|0.8  |   112324.72  |  4000 | #1F618D |\n",
        "|0.9  |    125089.28 |  4500 | #1A5276 |\n",
        "|1.0  |  26076025.00 |  5000 | #154360 |\n",
        "\n"
      ]
    },
    {
      "cell_type": "code",
      "execution_count": null,
      "metadata": {
        "colab": {
          "base_uri": "https://localhost:8080/"
        },
        "id": "kHhcWSoedpD3",
        "outputId": "63f833da-4d35-4687-8aa5-01c6391b94b1"
      },
      "outputs": [
        {
          "data": {
            "text/plain": [
              "0.1        9641.67\n",
              "0.2       17797.25\n",
              "0.3       27732.14\n",
              "0.4       40252.08\n",
              "0.5       55427.79\n",
              "0.6       73648.40\n",
              "0.7       94929.92\n",
              "0.8      112324.72\n",
              "0.9      125089.28\n",
              "1.0    26076025.00\n",
              "Name: MONTO_APOYO_TOTAL, dtype: float64"
            ]
          },
          "execution_count": 10,
          "metadata": {},
          "output_type": "execute_result"
        }
      ],
      "source": [
        "base['MONTO_APOYO_TOTAL'].quantile([0.1, 0.2, 0.3, 0.4, 0.5, 0.6,0.7,0.8, 0.9,1])"
      ]
    },
    {
      "attachments": {},
      "cell_type": "markdown",
      "metadata": {
        "id": "bTBtu_29FOGN"
      },
      "source": [
        "**Observación:**  Al reducir a nivel municipal el tañamo de productor se va a perder."
      ]
    },
    {
      "cell_type": "code",
      "execution_count": 9,
      "metadata": {
        "colab": {
          "base_uri": "https://localhost:8080/",
          "height": 426
        },
        "id": "cxf6ZBwuG1Tb",
        "outputId": "53a598f3-c53f-4a5a-daef-3e979079cd88"
      },
      "outputs": [
        {
          "data": {
            "text/html": [
              "\n",
              "  <div id=\"df-bf2a8e04-edb6-4527-9660-b80004e18f5a\">\n",
              "    <div class=\"colab-df-container\">\n",
              "      <div>\n",
              "<style scoped>\n",
              "    .dataframe tbody tr th:only-of-type {\n",
              "        vertical-align: middle;\n",
              "    }\n",
              "\n",
              "    .dataframe tbody tr th {\n",
              "        vertical-align: top;\n",
              "    }\n",
              "\n",
              "    .dataframe thead th {\n",
              "        text-align: right;\n",
              "    }\n",
              "</style>\n",
              "<table border=\"1\" class=\"dataframe\">\n",
              "  <thead>\n",
              "    <tr style=\"text-align: right;\">\n",
              "      <th></th>\n",
              "      <th>Anio</th>\n",
              "      <th>Producto2</th>\n",
              "      <th>CVE_ENT</th>\n",
              "      <th>NOM_ENT</th>\n",
              "      <th>CVE_MUN</th>\n",
              "      <th>NOM_MUN</th>\n",
              "      <th>CVE_LOC</th>\n",
              "      <th>NOM_LOC</th>\n",
              "      <th>TAMPROD</th>\n",
              "      <th>IMM</th>\n",
              "      <th>GMM</th>\n",
              "      <th>MONTO_APOYO_TOTAL</th>\n",
              "      <th>Volumenproduccion</th>\n",
              "      <th>LAT_DECIMAL</th>\n",
              "      <th>LON_DECIMAL</th>\n",
              "      <th>Producto</th>\n",
              "    </tr>\n",
              "  </thead>\n",
              "  <tbody>\n",
              "    <tr>\n",
              "      <th>0</th>\n",
              "      <td>2019</td>\n",
              "      <td>TRIGO</td>\n",
              "      <td>14.0</td>\n",
              "      <td>Jalisco</td>\n",
              "      <td>123.0</td>\n",
              "      <td>Zapotlán del Rey</td>\n",
              "      <td>41.0</td>\n",
              "      <td>Santiago Totolimixpan (Colonia la Guadalupana)</td>\n",
              "      <td>Pequeño</td>\n",
              "      <td>0.871801</td>\n",
              "      <td>Bajo</td>\n",
              "      <td>164325.49</td>\n",
              "      <td>18507.50</td>\n",
              "      <td>20.390451</td>\n",
              "      <td>-102.928304</td>\n",
              "      <td>Trigo</td>\n",
              "    </tr>\n",
              "    <tr>\n",
              "      <th>1</th>\n",
              "      <td>2019</td>\n",
              "      <td>TRIGO</td>\n",
              "      <td>25.0</td>\n",
              "      <td>Sinaloa</td>\n",
              "      <td>1.0</td>\n",
              "      <td>Ahome</td>\n",
              "      <td>253.0</td>\n",
              "      <td>Venustiano Carranza y Reforma</td>\n",
              "      <td>Pequeño</td>\n",
              "      <td>0.918614</td>\n",
              "      <td>Muy bajo</td>\n",
              "      <td>259393.38</td>\n",
              "      <td>173260.92</td>\n",
              "      <td>26.299094</td>\n",
              "      <td>-109.029824</td>\n",
              "      <td>Trigo</td>\n",
              "    </tr>\n",
              "    <tr>\n",
              "      <th>2</th>\n",
              "      <td>2019</td>\n",
              "      <td>TRIGO</td>\n",
              "      <td>2.0</td>\n",
              "      <td>Baja California</td>\n",
              "      <td>2.0</td>\n",
              "      <td>Mexicali</td>\n",
              "      <td>238.0</td>\n",
              "      <td>Ejido Nuevo Michoacán de Baja California</td>\n",
              "      <td>Pequeño</td>\n",
              "      <td>0.929886</td>\n",
              "      <td>Muy bajo</td>\n",
              "      <td>283225.10</td>\n",
              "      <td>265889.42</td>\n",
              "      <td>32.231099</td>\n",
              "      <td>-115.229405</td>\n",
              "      <td>Trigo</td>\n",
              "    </tr>\n",
              "    <tr>\n",
              "      <th>3</th>\n",
              "      <td>2019</td>\n",
              "      <td>TRIGO</td>\n",
              "      <td>11.0</td>\n",
              "      <td>Guanajuato</td>\n",
              "      <td>23.0</td>\n",
              "      <td>Pénjamo</td>\n",
              "      <td>150.0</td>\n",
              "      <td>Lagunillas</td>\n",
              "      <td>Pequeño</td>\n",
              "      <td>0.865012</td>\n",
              "      <td>Bajo</td>\n",
              "      <td>216537.18</td>\n",
              "      <td>46940.00</td>\n",
              "      <td>20.314742</td>\n",
              "      <td>-101.897984</td>\n",
              "      <td>Trigo</td>\n",
              "    </tr>\n",
              "    <tr>\n",
              "      <th>4</th>\n",
              "      <td>2019</td>\n",
              "      <td>TRIGO</td>\n",
              "      <td>25.0</td>\n",
              "      <td>Sinaloa</td>\n",
              "      <td>1.0</td>\n",
              "      <td>Ahome</td>\n",
              "      <td>126.0</td>\n",
              "      <td>Chihuahuita</td>\n",
              "      <td>Pequeño</td>\n",
              "      <td>0.918614</td>\n",
              "      <td>Muy bajo</td>\n",
              "      <td>118734.46</td>\n",
              "      <td>173260.92</td>\n",
              "      <td>26.158045</td>\n",
              "      <td>-109.053183</td>\n",
              "      <td>Trigo</td>\n",
              "    </tr>\n",
              "  </tbody>\n",
              "</table>\n",
              "</div>\n",
              "      <button class=\"colab-df-convert\" onclick=\"convertToInteractive('df-bf2a8e04-edb6-4527-9660-b80004e18f5a')\"\n",
              "              title=\"Convert this dataframe to an interactive table.\"\n",
              "              style=\"display:none;\">\n",
              "        \n",
              "  <svg xmlns=\"http://www.w3.org/2000/svg\" height=\"24px\"viewBox=\"0 0 24 24\"\n",
              "       width=\"24px\">\n",
              "    <path d=\"M0 0h24v24H0V0z\" fill=\"none\"/>\n",
              "    <path d=\"M18.56 5.44l.94 2.06.94-2.06 2.06-.94-2.06-.94-.94-2.06-.94 2.06-2.06.94zm-11 1L8.5 8.5l.94-2.06 2.06-.94-2.06-.94L8.5 2.5l-.94 2.06-2.06.94zm10 10l.94 2.06.94-2.06 2.06-.94-2.06-.94-.94-2.06-.94 2.06-2.06.94z\"/><path d=\"M17.41 7.96l-1.37-1.37c-.4-.4-.92-.59-1.43-.59-.52 0-1.04.2-1.43.59L10.3 9.45l-7.72 7.72c-.78.78-.78 2.05 0 2.83L4 21.41c.39.39.9.59 1.41.59.51 0 1.02-.2 1.41-.59l7.78-7.78 2.81-2.81c.8-.78.8-2.07 0-2.86zM5.41 20L4 18.59l7.72-7.72 1.47 1.35L5.41 20z\"/>\n",
              "  </svg>\n",
              "      </button>\n",
              "      \n",
              "  <style>\n",
              "    .colab-df-container {\n",
              "      display:flex;\n",
              "      flex-wrap:wrap;\n",
              "      gap: 12px;\n",
              "    }\n",
              "\n",
              "    .colab-df-convert {\n",
              "      background-color: #E8F0FE;\n",
              "      border: none;\n",
              "      border-radius: 50%;\n",
              "      cursor: pointer;\n",
              "      display: none;\n",
              "      fill: #1967D2;\n",
              "      height: 32px;\n",
              "      padding: 0 0 0 0;\n",
              "      width: 32px;\n",
              "    }\n",
              "\n",
              "    .colab-df-convert:hover {\n",
              "      background-color: #E2EBFA;\n",
              "      box-shadow: 0px 1px 2px rgba(60, 64, 67, 0.3), 0px 1px 3px 1px rgba(60, 64, 67, 0.15);\n",
              "      fill: #174EA6;\n",
              "    }\n",
              "\n",
              "    [theme=dark] .colab-df-convert {\n",
              "      background-color: #3B4455;\n",
              "      fill: #D2E3FC;\n",
              "    }\n",
              "\n",
              "    [theme=dark] .colab-df-convert:hover {\n",
              "      background-color: #434B5C;\n",
              "      box-shadow: 0px 1px 3px 1px rgba(0, 0, 0, 0.15);\n",
              "      filter: drop-shadow(0px 1px 2px rgba(0, 0, 0, 0.3));\n",
              "      fill: #FFFFFF;\n",
              "    }\n",
              "  </style>\n",
              "\n",
              "      <script>\n",
              "        const buttonEl =\n",
              "          document.querySelector('#df-bf2a8e04-edb6-4527-9660-b80004e18f5a button.colab-df-convert');\n",
              "        buttonEl.style.display =\n",
              "          google.colab.kernel.accessAllowed ? 'block' : 'none';\n",
              "\n",
              "        async function convertToInteractive(key) {\n",
              "          const element = document.querySelector('#df-bf2a8e04-edb6-4527-9660-b80004e18f5a');\n",
              "          const dataTable =\n",
              "            await google.colab.kernel.invokeFunction('convertToInteractive',\n",
              "                                                     [key], {});\n",
              "          if (!dataTable) return;\n",
              "\n",
              "          const docLinkHtml = 'Like what you see? Visit the ' +\n",
              "            '<a target=\"_blank\" href=https://colab.research.google.com/notebooks/data_table.ipynb>data table notebook</a>'\n",
              "            + ' to learn more about interactive tables.';\n",
              "          element.innerHTML = '';\n",
              "          dataTable['output_type'] = 'display_data';\n",
              "          await google.colab.output.renderOutput(dataTable, element);\n",
              "          const docLink = document.createElement('div');\n",
              "          docLink.innerHTML = docLinkHtml;\n",
              "          element.appendChild(docLink);\n",
              "        }\n",
              "      </script>\n",
              "    </div>\n",
              "  </div>\n",
              "  "
            ],
            "text/plain": [
              "   Anio Producto2  CVE_ENT          NOM_ENT  CVE_MUN           NOM_MUN  \\\n",
              "0  2019     TRIGO     14.0          Jalisco    123.0  Zapotlán del Rey   \n",
              "1  2019     TRIGO     25.0          Sinaloa      1.0             Ahome   \n",
              "2  2019     TRIGO      2.0  Baja California      2.0          Mexicali   \n",
              "3  2019     TRIGO     11.0       Guanajuato     23.0           Pénjamo   \n",
              "4  2019     TRIGO     25.0          Sinaloa      1.0             Ahome   \n",
              "\n",
              "   CVE_LOC                                         NOM_LOC  TAMPROD       IMM  \\\n",
              "0     41.0  Santiago Totolimixpan (Colonia la Guadalupana)  Pequeño  0.871801   \n",
              "1    253.0                   Venustiano Carranza y Reforma  Pequeño  0.918614   \n",
              "2    238.0        Ejido Nuevo Michoacán de Baja California  Pequeño  0.929886   \n",
              "3    150.0                                      Lagunillas  Pequeño  0.865012   \n",
              "4    126.0                                     Chihuahuita  Pequeño  0.918614   \n",
              "\n",
              "        GMM  MONTO_APOYO_TOTAL  Volumenproduccion  LAT_DECIMAL  LON_DECIMAL  \\\n",
              "0      Bajo          164325.49           18507.50    20.390451  -102.928304   \n",
              "1  Muy bajo          259393.38          173260.92    26.299094  -109.029824   \n",
              "2  Muy bajo          283225.10          265889.42    32.231099  -115.229405   \n",
              "3      Bajo          216537.18           46940.00    20.314742  -101.897984   \n",
              "4  Muy bajo          118734.46          173260.92    26.158045  -109.053183   \n",
              "\n",
              "  Producto  \n",
              "0    Trigo  \n",
              "1    Trigo  \n",
              "2    Trigo  \n",
              "3    Trigo  \n",
              "4    Trigo  "
            ]
          },
          "execution_count": 9,
          "metadata": {},
          "output_type": "execute_result"
        }
      ],
      "source": [
        "base.head()"
      ]
    },
    {
      "attachments": {},
      "cell_type": "markdown",
      "metadata": {
        "id": "wxHxBBbfhidG"
      },
      "source": [
        "Proporción de datos faltantes por año"
      ]
    },
    {
      "attachments": {},
      "cell_type": "markdown",
      "metadata": {
        "id": "FdBPscXmdne7"
      },
      "source": [
        "# Dashboard"
      ]
    },
    {
      "cell_type": "code",
      "execution_count": 10,
      "metadata": {
        "id": "Ql2JNtLnih4G"
      },
      "outputs": [],
      "source": [
        "# filtros\n",
        "anio = 2020\n",
        "producto = 'Maíz'\n",
        "GM = 'Muy bajo'\n",
        "\n",
        "base_mapa = base.dropna(axis=0)\n",
        "base_mapa = base_mapa[base_mapa['Anio']==anio]\n",
        "base_mapa = base_mapa[base_mapa['Producto']==producto]\n",
        "base_mapa = base_mapa[base_mapa['GMM']==GM]\n",
        "base_mapa.head()\n",
        "\n",
        "# cuantiles para variable \n",
        "q = [0.2,0.4,0.6,0.8,1]\n",
        "# Color\n",
        "quantile_mapa1_color = [0] + np.quantile(base_mapa['MONTO_APOYO_TOTAL'], q).astype('int').tolist()\n",
        "label_mapa1_color_label = [1, 3, 5, 7, 10]\n",
        "# Diámetro\n",
        "quantile_mapa1_shape = [0] + np.quantile(base_mapa['Volumenproduccion'], q).astype('int').tolist()\n",
        "label_mapa1_shape_label = ['#7c90ab','#815474','#7D3C98','#4e203a','#2a3240']\n",
        "# Add columns\n",
        "base1 = base_mapa.copy()\n",
        "base1['color'] = pd.cut(base1['MONTO_APOYO_TOTAL'], quantile_mapa1_color, labels=label_mapa1_shape_label)\n",
        "base1['radio'] = pd.cut(base1['Volumenproduccion'], quantile_mapa1_shape, labels=label_mapa1_color_label)"
      ]
    },
    {
      "cell_type": "code",
      "execution_count": 11,
      "metadata": {
        "id": "zFdU1kQ5d2nm"
      },
      "outputs": [],
      "source": [
        "app = JupyterDash(__name__, external_stylesheets=[dbc.themes.FLATLY])"
      ]
    },
    {
      "cell_type": "code",
      "execution_count": 34,
      "metadata": {
        "id": "C5H2NgJKMh1S"
      },
      "outputs": [],
      "source": [
        "color_prop = 'density'\n",
        "df = base1[['LAT_DECIMAL','LON_DECIMAL','NOM_LOC','MONTO_APOYO_TOTAL']].dropna()\n",
        "df.columns = ['lat', 'lon', 'city', 'density']\n",
        "dict_benef = []\n",
        "for ent, mun, loc, lat, lon, density in zip(base1['NOM_ENT'],base1['NOM_MUN'],base1['NOM_LOC'], base1['LAT_DECIMAL'], base1['LON_DECIMAL'], base1['Volumenproduccion']):\n",
        "  dicc = {'name':loc, 'lat':lat, 'lon':lon}\n",
        "  dict_benef.append(dicc)\n"
      ]
    },
    {
      "cell_type": "code",
      "execution_count": 37,
      "metadata": {
        "id": "_TyR2MNwMdmJ"
      },
      "outputs": [],
      "source": [
        "geojson_benef  = dlx.dicts_to_geojson([{**c, **dict(tooltip=c['name'])} for c in dict_benef])"
      ]
    },
    {
      "cell_type": "code",
      "execution_count": 14,
      "metadata": {
        "id": "otAd6rCyMO7_"
      },
      "outputs": [],
      "source": [
        "# Create a javascript function that renders selected markers in red, the others in blue.\n",
        "point_to_layer = assign(\"\"\"function(feature, latlng, context){\n",
        "    // Figure out if the marker is selected.\n",
        "    const selected = context.props.hideout.includes(feature.properties.name);\n",
        "    // Render selected markers in red.\n",
        "    if(selected){return L.circleMarker(latlng, {color: 'red'});}\n",
        "    // Render non-selected markers in blue.\n",
        "    return L.circleMarker(latlng, {color: 'blue'});\n",
        "}\"\"\")\n",
        "\n",
        "\n",
        "use_icon = assign(\"\"\"function(feature, latlng){\n",
        "const i = L.icon({iconUrl: `https://cdn4.iconfinder.com/data/icons/standard-free-icons/139/Checkin01-512.png`, iconSize: [20, 20]});\n",
        "return L.circleMarker(latlng, {color: 'blue'});\n",
        "}\"\"\")"
      ]
    },
    {
      "cell_type": "code",
      "execution_count": 15,
      "metadata": {
        "id": "bvIHumx6Wtxi"
      },
      "outputs": [],
      "source": [
        "# information about hover\n",
        "def get_info(feature=None):\n",
        "    header = [html.H4(\"Beneficiarios SEGALMEX\")]\n",
        "    if not feature:\n",
        "        return header + [html.P(\"Hoover over a state\")]\n",
        "    return header + [html.B(feature[\"properties\"][\"name\"]), html.Br(),\n",
        "                     \"{:.3f} Estado\".format(feature[\"properties\"][\"name\"]), html.Sup(\"2\")]\n",
        "\n",
        "# create geojson \n",
        "classes = [0, 10, 20, 50, 100, 200, 500, 1000]\n",
        "colorscale = ['#FFEDA0', '#FED976', '#FEB24C', '#FD8D3C', '#FC4E2A', '#E31A1C', '#BD0026', '#800026']\n",
        "style = dict(weight=2, opacity=0.8, color='green', dashArray='3', fillOpacity=0.8)\n",
        "# Create colorbar\n",
        "ctg = [\"{}+\".format(cls, classes[i + 1]) for i, cls in enumerate(classes[:-1])] + [\"{}+\".format(classes[-1])]\n",
        "colorbar = dlx.categorical_colorbar(categories=ctg, colorscale=colorscale, width=300, height=30, position=\"bottomleft\")\n",
        "# Geojson rendering logic, must be JavaScript as it is executed in clientside.\n",
        "style_handle = assign(\"\"\"function(feature, context){\n",
        "    const {classes, colorscale, style, colorProp} = context.props.hideout;  // get props from hideout\n",
        "    const value = feature.properties[colorProp];  // get value the determines the color\n",
        "    for (let i = 0; i < classes.length; ++i) {\n",
        "        if (value > classes[i]) {\n",
        "            style.fillColor = colorscale[i];  // set the fill color according to the class\n",
        "        }\n",
        "    }\n",
        "    return style;\n",
        "}\"\"\")\n",
        "# Create geojson.\n",
        "geojson = dl.GeoJSON(url=\"https://raw.githubusercontent.com/SESNA-Inteligencia/Dashboard-1_1/master/datasets/estandosMexico.json\",  # url to geojson file\n",
        "                     options=dict(style=style_handle),  # how to style each polygon\n",
        "                     zoomToBounds=True,  # when true, zooms to bounds when data changes (e.g. on load)\n",
        "                     zoomToBoundsOnClick=True,  # when true, zooms to bounds of feature (e.g. polygon) on click\n",
        "                     hoverStyle=arrow_function(dict(weight=5, color='#666', dashArray='')),  # style applied on hover\n",
        "                     hideout=dict(colorscale=colorscale, classes=classes, style=style, colorProp=\"density\"),\n",
        "                     id=\"geojson\")\n",
        "\n",
        "# Create info control\n",
        "info = html.Div(children=get_info(), id=\"info\", className=\"info\",\n",
        "                style={\"position\": \"absolute\", \"top\": \"10px\", \"right\": \"10px\", \"z-index\": \"1000\"})\n",
        "\n",
        "geojson2 = dl.GeoJSON(data=geojson_benef,\n",
        "                      options=dict(pointToLayer=use_icon),\n",
        "                      format=\"geobuf\",\n",
        "                      id=\"geojson2\")\n"
      ]
    },
    {
      "cell_type": "code",
      "execution_count": 16,
      "metadata": {
        "colab": {
          "base_uri": "https://localhost:8080/",
          "height": 845
        },
        "id": "9eETER4CJaWX",
        "outputId": "cfc0d483-60b9-48af-9259-4e5218b4ac12"
      },
      "outputs": [
        {
          "name": "stdout",
          "output_type": "stream",
          "text": [
            "Dash is running on http://127.0.0.1:8050/\n",
            "\n"
          ]
        },
        {
          "name": "stderr",
          "output_type": "stream",
          "text": [
            "INFO:dash.dash:Dash is running on http://127.0.0.1:8050/\n",
            "\n"
          ]
        },
        {
          "name": "stdout",
          "output_type": "stream",
          "text": [
            "Dash app running on:\n"
          ]
        },
        {
          "data": {
            "application/javascript": "(async (port, path, text, element) => {\n    if (!google.colab.kernel.accessAllowed) {\n      return;\n    }\n    element.appendChild(document.createTextNode(''));\n    const url = await google.colab.kernel.proxyPort(port);\n    const anchor = document.createElement('a');\n    anchor.href = new URL(path, url).toString();\n    anchor.target = '_blank';\n    anchor.setAttribute('data-href', url + path);\n    anchor.textContent = text;\n    element.appendChild(anchor);\n  })(8050, \"/\", \"http://127.0.0.1:8050/\", window.element)",
            "text/plain": [
              "<IPython.core.display.Javascript object>"
            ]
          },
          "metadata": {},
          "output_type": "display_data"
        },
        {
          "name": "stdout",
          "output_type": "stream",
          "text": [
            "Dash is running on http://127.0.0.1:8050/\n",
            "\n"
          ]
        },
        {
          "name": "stderr",
          "output_type": "stream",
          "text": [
            "INFO:dash.dash:Dash is running on http://127.0.0.1:8050/\n",
            "\n"
          ]
        },
        {
          "data": {
            "application/javascript": "(async (port, path, width, height, cache, element) => {\n    if (!google.colab.kernel.accessAllowed && !cache) {\n      return;\n    }\n    element.appendChild(document.createTextNode(''));\n    const url = await google.colab.kernel.proxyPort(port, {cache});\n    const iframe = document.createElement('iframe');\n    iframe.src = new URL(path, url).toString();\n    iframe.height = height;\n    iframe.width = width;\n    iframe.style.border = 0;\n    iframe.allow = [\n        'accelerometer',\n        'autoplay',\n        'camera',\n        'clipboard-read',\n        'clipboard-write',\n        'gyroscope',\n        'magnetometer',\n        'microphone',\n        'serial',\n        'usb',\n        'xr-spatial-tracking',\n    ].join('; ');\n    element.appendChild(iframe);\n  })(8050, \"/\", \"100%\", 650, false, window.element)",
            "text/plain": [
              "<IPython.core.display.Javascript object>"
            ]
          },
          "metadata": {},
          "output_type": "display_data"
        }
      ],
      "source": [
        "# callback\n",
        "app.layout = html.Div([\n",
        "        dl.Map(children=[dl.TileLayer(),\n",
        "                          geojson,\n",
        "                          colorbar,\n",
        "                          info] +\n",
        "                         [dl.Circle(center=[lat, lon], radius=radio, color=color, children=[\n",
        "                          dl.Popup(\"Latitud: {} - \\n Longitud {}\".format(lat, lon))\n",
        "                          ]) for lat, lon, radio, color in zip(base1['LAT_DECIMAL'],base1['LON_DECIMAL'], base1['radio'], base1['color'])] +\n",
        "                         [dl.Circle(center=[lat, lon], radius=3, color='red',\n",
        "                            ) for lat, lon in zip(centros['LAT_DECIMAL'],centros['LON_DECIMAL'])],\n",
        "                         id=\"map\"),       \n",
        "      ], style={'width': '100%', 'height': '70vh', 'margin': \"auto\", \"display\": \"block\"}, id=\"map\")\n",
        "\n",
        "@app.callback(Output(\"info\", \"children\"), [Input(\"geojson\", \"hover_feature\")])\n",
        "def info_hover(feature):\n",
        "    return get_info(feature)\n",
        "\n",
        "if __name__ == '__main__':\n",
        "  app.run_server()\n",
        "# Run app and display result inline in the notebook\n",
        "app.run_server(mode='inline')"
      ]
    },
    {
      "attachments": {},
      "cell_type": "markdown",
      "metadata": {
        "id": "Ba5YUHH8ucsz"
      },
      "source": [
        "# **Ejemplo 1:**"
      ]
    },
    {
      "cell_type": "code",
      "execution_count": null,
      "metadata": {
        "id": "7Ey0rKccwZ4v"
      },
      "outputs": [],
      "source": [
        "!pip install dash_html_components"
      ]
    },
    {
      "cell_type": "code",
      "execution_count": 18,
      "metadata": {
        "id": "2sSVVYQ0vNYd"
      },
      "outputs": [],
      "source": [
        "import dash_leaflet as dl\n",
        "import dash_leaflet.express as dlx\n",
        "from dash import Dash, html, Output, Input\n",
        "from dash_extensions.javascript import arrow_function\n",
        "from dash_extensions.javascript import assign"
      ]
    },
    {
      "cell_type": "code",
      "execution_count": 19,
      "metadata": {
        "id": "N5FmEDnHy6El"
      },
      "outputs": [],
      "source": [
        "app = JupyterDash(__name__)"
      ]
    },
    {
      "cell_type": "code",
      "execution_count": 20,
      "metadata": {
        "colab": {
          "base_uri": "https://localhost:8080/",
          "height": 845
        },
        "id": "ZDG6iGghuaqz",
        "outputId": "50891a9e-928f-4d81-fbeb-53f1b944ee79"
      },
      "outputs": [
        {
          "name": "stdout",
          "output_type": "stream",
          "text": [
            "Dash is running on http://127.0.0.1:8050/\n",
            "\n"
          ]
        },
        {
          "name": "stderr",
          "output_type": "stream",
          "text": [
            "INFO:dash.dash:Dash is running on http://127.0.0.1:8050/\n",
            "\n"
          ]
        },
        {
          "name": "stdout",
          "output_type": "stream",
          "text": [
            "Dash app running on:\n"
          ]
        },
        {
          "data": {
            "application/javascript": "(async (port, path, text, element) => {\n    if (!google.colab.kernel.accessAllowed) {\n      return;\n    }\n    element.appendChild(document.createTextNode(''));\n    const url = await google.colab.kernel.proxyPort(port);\n    const anchor = document.createElement('a');\n    anchor.href = new URL(path, url).toString();\n    anchor.target = '_blank';\n    anchor.setAttribute('data-href', url + path);\n    anchor.textContent = text;\n    element.appendChild(anchor);\n  })(8050, \"/\", \"http://127.0.0.1:8050/\", window.element)",
            "text/plain": [
              "<IPython.core.display.Javascript object>"
            ]
          },
          "metadata": {},
          "output_type": "display_data"
        },
        {
          "name": "stdout",
          "output_type": "stream",
          "text": [
            "Dash is running on http://127.0.0.1:8050/\n",
            "\n"
          ]
        },
        {
          "name": "stderr",
          "output_type": "stream",
          "text": [
            "INFO:dash.dash:Dash is running on http://127.0.0.1:8050/\n",
            "\n"
          ]
        },
        {
          "data": {
            "application/javascript": "(async (port, path, width, height, cache, element) => {\n    if (!google.colab.kernel.accessAllowed && !cache) {\n      return;\n    }\n    element.appendChild(document.createTextNode(''));\n    const url = await google.colab.kernel.proxyPort(port, {cache});\n    const iframe = document.createElement('iframe');\n    iframe.src = new URL(path, url).toString();\n    iframe.height = height;\n    iframe.width = width;\n    iframe.style.border = 0;\n    iframe.allow = [\n        'accelerometer',\n        'autoplay',\n        'camera',\n        'clipboard-read',\n        'clipboard-write',\n        'gyroscope',\n        'magnetometer',\n        'microphone',\n        'serial',\n        'usb',\n        'xr-spatial-tracking',\n    ].join('; ');\n    element.appendChild(iframe);\n  })(8050, \"/\", \"100%\", 650, false, window.element)",
            "text/plain": [
              "<IPython.core.display.Javascript object>"
            ]
          },
          "metadata": {},
          "output_type": "display_data"
        }
      ],
      "source": [
        "# Create example app\n",
        "import dash_leaflet as dl\n",
        "import dash_leaflet.express as dlx\n",
        "from dash import Dash, html, Output, Input\n",
        "from dash_extensions.javascript import arrow_function\n",
        "\n",
        "# A few cities in Denmark.\n",
        "cities = [dict(name=\"Aalborg\", lat=57.0268172, lon=9.837735),\n",
        "          dict(name=\"Aarhus\", lat=56.1780842, lon=10.1119354),\n",
        "          dict(name=\"Copenhagen\", lat=55.6712474, lon=12.5237848)]\n",
        "# Generate geojson with a marker for each city and name as tooltip.\n",
        "geojson = dlx.dicts_to_geojson([{**c, **dict(tooltip=c['name'])} for c in cities])\n",
        "# Create javascript function that filters out all cities but Aarhus.\n",
        "geojson_filter = assign(\"function(feature, context){{return ['Aarhus'].includes(feature.properties.name);}}\")\n",
        "# Create example app.\n",
        "\n",
        "app.layout = html.Div([\n",
        "    dl.Map(children=[\n",
        "        dl.TileLayer(),\n",
        "        dl.GeoJSON(data=geojson, options=dict(filter=geojson_filter), id=\"geojson\")\n",
        "    ], style={'width': '100%', 'height': '50vh', 'margin': \"auto\", \"display\": \"block\"}, id=\"map\"),\n",
        "])\n",
        "\n",
        "\n",
        "if __name__ == '__main__':\n",
        "    app.run_server()\n",
        "\n",
        "app.run_server(mode='inline')"
      ]
    },
    {
      "cell_type": "code",
      "execution_count": 21,
      "metadata": {
        "id": "ZyNwzRBureWF"
      },
      "outputs": [],
      "source": [
        "# Filtros\n",
        "anio = 2020\n",
        "producto = 'Maíz'\n",
        "\n",
        "base2 = base[base['Anio']==anio]\n",
        "base2 = base2[base2['Producto']==producto]\n"
      ]
    },
    {
      "cell_type": "code",
      "execution_count": 22,
      "metadata": {
        "colab": {
          "base_uri": "https://localhost:8080/",
          "height": 934
        },
        "id": "6HMRtNbwH3U1",
        "outputId": "6604e54f-f968-4c13-82d9-5fe7c8be8274"
      },
      "outputs": [
        {
          "name": "stderr",
          "output_type": "stream",
          "text": [
            "<ipython-input-22-b64a04a3c4fd>:8: FutureWarning:\n",
            "\n",
            "Using short name for 'orient' is deprecated. Only the options: ('dict', list, 'series', 'split', 'records', 'index') will be used in a future version. Use one of the above to silence this warning.\n",
            "\n"
          ]
        },
        {
          "name": "stdout",
          "output_type": "stream",
          "text": [
            "Dash is running on http://127.0.0.1:8050/\n",
            "\n"
          ]
        },
        {
          "name": "stderr",
          "output_type": "stream",
          "text": [
            "INFO:dash.dash:Dash is running on http://127.0.0.1:8050/\n",
            "\n"
          ]
        },
        {
          "name": "stdout",
          "output_type": "stream",
          "text": [
            "Dash app running on:\n"
          ]
        },
        {
          "data": {
            "application/javascript": "(async (port, path, text, element) => {\n    if (!google.colab.kernel.accessAllowed) {\n      return;\n    }\n    element.appendChild(document.createTextNode(''));\n    const url = await google.colab.kernel.proxyPort(port);\n    const anchor = document.createElement('a');\n    anchor.href = new URL(path, url).toString();\n    anchor.target = '_blank';\n    anchor.setAttribute('data-href', url + path);\n    anchor.textContent = text;\n    element.appendChild(anchor);\n  })(8050, \"/\", \"http://127.0.0.1:8050/\", window.element)",
            "text/plain": [
              "<IPython.core.display.Javascript object>"
            ]
          },
          "metadata": {},
          "output_type": "display_data"
        },
        {
          "name": "stdout",
          "output_type": "stream",
          "text": [
            "Dash is running on http://127.0.0.1:8050/\n",
            "\n"
          ]
        },
        {
          "name": "stderr",
          "output_type": "stream",
          "text": [
            "INFO:dash.dash:Dash is running on http://127.0.0.1:8050/\n",
            "\n"
          ]
        },
        {
          "data": {
            "application/javascript": "(async (port, path, width, height, cache, element) => {\n    if (!google.colab.kernel.accessAllowed && !cache) {\n      return;\n    }\n    element.appendChild(document.createTextNode(''));\n    const url = await google.colab.kernel.proxyPort(port, {cache});\n    const iframe = document.createElement('iframe');\n    iframe.src = new URL(path, url).toString();\n    iframe.height = height;\n    iframe.width = width;\n    iframe.style.border = 0;\n    iframe.allow = [\n        'accelerometer',\n        'autoplay',\n        'camera',\n        'clipboard-read',\n        'clipboard-write',\n        'gyroscope',\n        'magnetometer',\n        'microphone',\n        'serial',\n        'usb',\n        'xr-spatial-tracking',\n    ].join('; ');\n    element.appendChild(iframe);\n  })(8050, \"/\", \"100%\", 650, false, window.element)",
            "text/plain": [
              "<IPython.core.display.Javascript object>"
            ]
          },
          "metadata": {},
          "output_type": "display_data"
        }
      ],
      "source": [
        "colorscale = ['#2471A3', '#2980B9', '#17202A']  # rainbow\n",
        "chroma = \"https://cdnjs.cloudflare.com/ajax/libs/chroma-js/2.1.0/chroma.min.js\"  # js lib used for colors\n",
        "color_prop = 'density'\n",
        "# Pre process the data into geobuf.\n",
        "df = base2[['LAT_DECIMAL','LON_DECIMAL','NOM_ENT','MONTO_APOYO_TOTAL']].dropna()\n",
        "df.columns = ['lat', 'lon', 'city', 'density']\n",
        "#df = df[['lat', 'lon', 'city', color_prop]]  # drop irrelevant columns\n",
        "dicts = df.to_dict('rows')\n",
        "for item in dicts:\n",
        "    item[\"tooltip\"] = \"{} ({:.1f})\".format(item['city'], item[color_prop])  # bind tooltip\n",
        "geojson = dlx.dicts_to_geojson(dicts, lon=\"lon\")  # convert to geojson\n",
        "geobuf = dlx.geojson_to_geobuf(geojson)  # convert to geobuf\n",
        "# Create a colorbar.\n",
        "vmax = df[color_prop].max()\n",
        "colorbar = dl.Colorbar(colorscale=colorscale, width=20, height=150, min=0, max=vmax, unit='/km2')\n",
        "# Geojson rendering logic, must be JavaScript as it is executed in clientside.\n",
        "point_to_layer = assign(\"\"\"function(feature, latlon, context){\n",
        "    const {min, max, colorscale, circleOptions, colorProp} = context.props.hideout;\n",
        "    const csc = chroma.scale(colorscale).domain([min, max]);  \n",
        "    circleOptions.fillColor = csc(feature.properties[colorProp]);  // set color based on color prop.\n",
        "    return L.circleMarker(latlon, circleOptions);  // sender a simple circle marker.\n",
        "}\"\"\")\n",
        "# Create geojson.\n",
        "geojson = dl.GeoJSON(data=geobuf, id=\"geojson\", format=\"geobuf\",\n",
        "                     zoomToBounds=True,  # when true, zooms to bounds when data changes\n",
        "                     options=dict(pointToLayer=point_to_layer),  # how to draw points\n",
        "                     superClusterOptions=dict(radius=50),   # adjust cluster size\n",
        "                     hideout=dict(colorProp=color_prop, circleOptions=dict(fillOpacity=1, stroke=False, radius=5),\n",
        "                                  min=0, max=vmax, colorscale=colorscale))\n",
        "##\n",
        "geojson3 = dl.GeoJSON(url=\"https://raw.githubusercontent.com/SESNA-Inteligencia/Dashboard-1_1/master/datasets/estadosMexico.json\",  # url to geojson file\n",
        "                     options=dict(style=style_handle),  # how to style each polygon\n",
        "                     zoomToBounds=True,  # when true, zooms to bounds when data changes (e.g. on load)\n",
        "                     zoomToBoundsOnClick=True,  # when true, zooms to bounds of feature (e.g. polygon) on click\n",
        "                     hoverStyle=arrow_function(dict(weight=5, color='#666', dashArray='')),  # style applied on hover\n",
        "                     hideout=dict(colorscale=colorscale, classes=classes, style=style, colorProp=\"density\"),\n",
        "                     id=\"geojson3\")\n",
        "# Creación de la app\n",
        "#app = Dash(external_scripts=[chroma], prevent_initial_callbacks=True)\n",
        "app = JupyterDash(external_scripts=[chroma], prevent_initial_callbacks=True)\n",
        "app.layout = html.Div([\n",
        "    dl.Map([dl.TileLayer(),\n",
        "            #dl.Pane([dl.CircleMarker(geojson4, center=(56, 10), fillOpacity=0)], style={\"z-index\": 1000}),\n",
        "            info, \n",
        "            #for lat, lng, loc in zip(centros['LAT_DECIMAL'], centros['LON_DECIMAL'], centros['NOM_LOC']):\n",
        "              [dl.CircleMarker(center=[lat, lon], radius=20, color='red', children=[\n",
        "                  dl.Popup('Prueba')\n",
        "              ]) for lat, lon in zip(base2['LAT_DECIMAL'], base2['LON_DECIMAL'])],\n",
        "            geojson3, \n",
        "            geojson\n",
        "            ]),\n",
        "], style={'width': '100%', 'height': '50vh', 'margin': \"auto\", \"display\": \"block\"})\n",
        "# info\n",
        "info = html.Div(children=get_info(), id=\"info\", className=\"info\",\n",
        "                style={\"position\": \"absolute\", \"top\": \"10px\", \"right\": \"10px\", \"z-index\": \"1000\"})\n",
        "\n",
        "@app.callback(Output(\"info\", \"children\"), [Input(\"geojson3\", \"hover_feature\")])\n",
        "def info_hover(feature):\n",
        "    return get_info(feature)\n",
        "\n",
        "if __name__ == '__main__':\n",
        "    app.run_server()\n",
        "\n",
        "app.run_server(mode='inline')"
      ]
    },
    {
      "attachments": {},
      "cell_type": "markdown",
      "metadata": {
        "id": "Puf1t4WWWcNF"
      },
      "source": [
        "# **Ejemplo 2**"
      ]
    },
    {
      "cell_type": "code",
      "execution_count": null,
      "metadata": {
        "colab": {
          "base_uri": "https://localhost:8080/",
          "height": 1000
        },
        "id": "m9yPUYYaWbxV",
        "outputId": "d6e2c31a-2509-46ad-8122-18a728c98e4c"
      },
      "outputs": [
        {
          "name": "stderr",
          "output_type": "stream",
          "text": [
            "<ipython-input-39-b81cc98d699c>:3: UserWarning:\n",
            "\n",
            "\n",
            "The dash_core_components package is deprecated. Please replace\n",
            "`import dash_core_components as dcc` with `from dash import dcc`\n",
            "\n",
            "<ipython-input-39-b81cc98d699c>:4: UserWarning:\n",
            "\n",
            "\n",
            "The dash_html_components package is deprecated. Please replace\n",
            "`import dash_html_components as html` with `from dash import html`\n",
            "\n"
          ]
        },
        {
          "name": "stdout",
          "output_type": "stream",
          "text": [
            "Dash is running on http://127.0.0.1:8050/\n",
            "\n"
          ]
        },
        {
          "name": "stderr",
          "output_type": "stream",
          "text": [
            "INFO:dash.dash:Dash is running on http://127.0.0.1:8050/\n",
            "\n"
          ]
        },
        {
          "name": "stdout",
          "output_type": "stream",
          "text": [
            "Dash app running on:\n"
          ]
        },
        {
          "data": {
            "application/javascript": "(async (port, path, text, element) => {\n    if (!google.colab.kernel.accessAllowed) {\n      return;\n    }\n    element.appendChild(document.createTextNode(''));\n    const url = await google.colab.kernel.proxyPort(port);\n    const anchor = document.createElement('a');\n    anchor.href = new URL(path, url).toString();\n    anchor.target = '_blank';\n    anchor.setAttribute('data-href', url + path);\n    anchor.textContent = text;\n    element.appendChild(anchor);\n  })(8050, \"/\", \"http://127.0.0.1:8050/\", window.element)",
            "text/plain": [
              "<IPython.core.display.Javascript object>"
            ]
          },
          "metadata": {},
          "output_type": "display_data"
        },
        {
          "name": "stdout",
          "output_type": "stream",
          "text": [
            "Dash is running on http://127.0.0.1:8050/\n",
            "\n"
          ]
        },
        {
          "name": "stderr",
          "output_type": "stream",
          "text": [
            "INFO:dash.dash:Dash is running on http://127.0.0.1:8050/\n",
            "\n"
          ]
        },
        {
          "data": {
            "application/javascript": "(async (port, path, width, height, cache, element) => {\n    if (!google.colab.kernel.accessAllowed && !cache) {\n      return;\n    }\n    element.appendChild(document.createTextNode(''));\n    const url = await google.colab.kernel.proxyPort(port, {cache});\n    const iframe = document.createElement('iframe');\n    iframe.src = new URL(path, url).toString();\n    iframe.height = height;\n    iframe.width = width;\n    iframe.style.border = 0;\n    iframe.allow = [\n        'accelerometer',\n        'autoplay',\n        'camera',\n        'clipboard-read',\n        'clipboard-write',\n        'gyroscope',\n        'magnetometer',\n        'microphone',\n        'serial',\n        'usb',\n        'xr-spatial-tracking',\n    ].join('; ');\n    element.appendChild(iframe);\n  })(8050, \"/\", \"100%\", 650, false, window.element)",
            "text/plain": [
              "<IPython.core.display.Javascript object>"
            ]
          },
          "metadata": {},
          "output_type": "display_data"
        }
      ],
      "source": [
        "import json\n",
        "import dash\n",
        "import dash_core_components as dcc\n",
        "import dash_html_components as html\n",
        "import dash_leaflet as dl\n",
        "\n",
        "from dash.dependencies import Output, Input\n",
        "\n",
        "# Mapbox setup\n",
        "chroma = \"https://cdnjs.cloudflare.com/ajax/libs/chroma-js/2.1.0/chroma.min.js\"  # js lib used for colors\n",
        "mapbox_url = \"https://api.mapbox.com/styles/v1/mapbox/{id}/tiles/{{z}}/{{x}}/{{y}}{{r}}?access_token={access_token}\"\n",
        "mapbox_token =\"pk.eyJ1IjoibHBlYXJzb24tbWFwcyIsImEiOiJjazRhZDh5djQwMnpuM2dud3RpbXp2MGNrIn0.ohZKBd1TFwW85VjKje4DAg\"  # settings.MAPBOX_TOKEN\n",
        "mapbox_ids = [\"light-v9\", \"dark-v9\", \"streets-v9\", \"outdoors-v9\", \"satellite-streets-v9\"]\n",
        "\n",
        "# region Example 1\n",
        "MAP_ID = \"map-id\"\n",
        "BASE_LAYER_ID = \"base-layer-id\"\n",
        "BASE_LAYER_DROPDOWN_ID = \"base-layer-drop-down-id\"\n",
        "COORDINATE_CLICK_ID = \"coordinate-click-id\"\n",
        "\n",
        "def render_example1():\n",
        "    comment = \"\"\" Marker with default icon, marker with custom icon, circle marker (fixed pixel radius),\n",
        "    circle (fixed physical radius), polyline, polygon and rectangle, all supporting tooltips and popups. \"\"\"\n",
        "    return [\n",
        "        html.H1(\"Example 1: Basic components\"),\n",
        "        html.P(comment),\n",
        "        dl.Map(id=MAP_ID, style={'width': '1000px', 'height': '500px'}, center=[56.05, 10.25], zoom=10, children=[\n",
        "            dl.TileLayer(id=BASE_LAYER_ID),\n",
        "            # Marker with tool tip and popup.\n",
        "            dl.Marker(position=[56, 9.8], children=[\n",
        "                dl.Tooltip(\"Marker tooltip\"),\n",
        "                dl.Popup([\n",
        "                    html.H1(\"Marker popup\"),\n",
        "                    html.P(\"with inline html\")\n",
        "                ])\n",
        "            ]),\n",
        "            # Marker with custom icon.\n",
        "            dl.Marker(position=[55.94, 9.96], icon={\n",
        "                \"iconUrl\": \"https://github.com/thedirtyfew/dash-leaflet/tree/master/assets/149059.svg\",\n",
        "                \"iconSize\": [25, 25]\n",
        "            }, children=[\n",
        "                dl.Tooltip(\"Marker with custom icon\")\n",
        "            ]),\n",
        "            # Circle marker (with fixed radius in pixel).\n",
        "            #for lat, lng, lab in zip(centros['LAT_DECIMAL'], centros['LON_DECIMAL'], centros['NOM_LOC']):\n",
        "            [dl.CircleMarker(center=[lat, lon], radius=20, \n",
        "                            children=[dl.Popup('lab'),\n",
        "                ]) for lat, lon in zip(base1['LAT_DECIMAL'][0:10],base1['LON_DECIMAL'][0:10])],\n",
        "            # Circle with fixed radius in meters.\n",
        "            dl.Circle(center=[56.145, 10.21], radius=10000, color='rgb(255,128,0)', children=[\n",
        "                dl.Tooltip('Circle, 2km radius')\n",
        "            ]),\n",
        "            dl.Circle(center=[55.1, 10.21], radius=2000, color='rgb(255,128,0)', children=[\n",
        "                dl.Tooltip('Circle - copy')\n",
        "            ]),\n",
        "            # Polyline marker.\n",
        "            dl.Polyline(id='polyline', positions=[[56.06, 10.0],\n",
        "                                                  [56.056, 10.01],\n",
        "                                                  [56.064, 10.028],\n",
        "                                                  [56.0523, 10.0717],\n",
        "                                                  [56.044, 10.073]], children=[\n",
        "                dl.Tooltip('Polyline')\n",
        "            ]),\n",
        "            # Rectangle marker.\n",
        "            dl.Rectangle(id='rectangle', bounds=[[55.9, 10.2], [56.0, 10.5]], children=[\n",
        "                dl.Tooltip('Rectangle')\n",
        "            ])]),\n",
        "        dcc.RadioItems(\n",
        "            id=BASE_LAYER_DROPDOWN_ID,\n",
        "            options=[{\"label\": i, \"value\": mapbox_url.format(id=i, access_token=mapbox_token)} for i in mapbox_ids],\n",
        "            labelStyle={'display': 'inline-block'},\n",
        "            value=mapbox_url.format(id=\"light-v9\", access_token=mapbox_token)\n",
        "        ),\n",
        "        html.P(\"Coordinate (click on map):\"),\n",
        "        html.Div(id=COORDINATE_CLICK_ID),\n",
        "    ]\n",
        "\n",
        "def register_example1(app):\n",
        "    @app.callback(Output(BASE_LAYER_ID, \"url\"),\n",
        "                  [Input(BASE_LAYER_DROPDOWN_ID, \"value\")])\n",
        "    def set_baselayer(url):\n",
        "        return url\n",
        "\n",
        "    @app.callback(Output(COORDINATE_CLICK_ID, 'children'),\n",
        "                  [Input(MAP_ID, 'click_lat_lng')])\n",
        "    def click_coord(e):\n",
        "        if e is not None:\n",
        "            return json.dumps(e)\n",
        "        else:\n",
        "            return \"-\"\n",
        "# endregion\n",
        "\n",
        "# region Example 2\n",
        "def render_example2():\n",
        "    return [\n",
        "        html.H1(\"Example 2: WMSTileLayer\"),\n",
        "        dl.Map(style={'width': '1000px', 'height': '500px'},\n",
        "               center=[40, -100],\n",
        "               zoom=4,\n",
        "               children=[\n",
        "                   dl.TileLayer(url=mapbox_url.format(id=\"dark-v9\", access_token=mapbox_token)),\n",
        "                   dl.WMSTileLayer(url=\"http://mesonet.agron.iastate.edu/cgi-bin/wms/nexrad/n0r.cgi\",\n",
        "                                   layers=\"nexrad-n0r-900913\",\n",
        "                                   format=\"image/png\",\n",
        "                                   transparent=True),\n",
        "               ])\n",
        "    ]\n",
        "# endregion\n",
        "\n",
        "# region Example 3\n",
        "def render_example3():\n",
        "    return [\n",
        "        html.H1(\"Example 3: ImageOverlay\"),\n",
        "        dl.Map(style={'width': '1000px', 'height': '500px'},\n",
        "               bounds=[[40.712216, -74.22655], [40.773941, -74.12544]],\n",
        "               children=[\n",
        "                   dl.TileLayer(),\n",
        "                   dl.ImageOverlay(opacity=0.5, url=\"https://raw.githubusercontent.com/thedirtyfew/dash-leaflet/master/assets/newark_nj_1922.jpg\",\n",
        "                                   bounds=[[40.712216, -74.22655], [40.773941, -74.12544]])\n",
        "               ]),\n",
        "    ]\n",
        "# endregion\n",
        "\n",
        "# region Example 4\n",
        "\n",
        "BUTTON_PLAY_ID = \"button-play\"\n",
        "VIDEO_OVERLAY_ID = \"video-overlay-id\"\n",
        "\n",
        "def render_example4():\n",
        "    return [\n",
        "        html.H1(\"Example 4: VideoOverlay\"),\n",
        "        dl.Map(style={'width': '1000px', 'height': '500px'},\n",
        "               bounds=[[32, -130], [13, -100]],\n",
        "               children=[\n",
        "                   dl.TileLayer(url=mapbox_url.format(id=\"satellite-streets-v9\", access_token=mapbox_token)),\n",
        "                   dl.VideoOverlay(id=VIDEO_OVERLAY_ID, url=\"https://raw.githubusercontent.com/thedirtyfew/dash-leaflet/master/assets/patricia_nasa.webm\",\n",
        "                                   bounds=[[32, -130], [13, -100]]),\n",
        "               ]),\n",
        "        html.Button(id=BUTTON_PLAY_ID, children=\"Play/pause\"),\n",
        "    ]\n",
        "\n",
        "def register_example4(app):\n",
        "    @app.callback(Output(VIDEO_OVERLAY_ID, 'play'),\n",
        "                  [Input(BUTTON_PLAY_ID, 'n_clicks')])\n",
        "    def play_pause(n):\n",
        "        if n is None or n % 2 == 0:\n",
        "            return True\n",
        "        else:\n",
        "            return False\n",
        "# endregion\n",
        "\n",
        "# region Example 5\n",
        "GEOTIFF_ID = \"geotiff-id\"\n",
        "GEOTIFF_MARKER_ID = \"geotiff-marker-id\"\n",
        "\n",
        "def render_example5():\n",
        "    color_domain = dict(domainMin=20, domainMax=40, colorscale=['white', 'orange', 'red'])\n",
        "    return [\n",
        "        html.H1(\"Example 5: GeoTIFFOverlay\"),\n",
        "        html.P(\"Middle East Temperatures\"),\n",
        "        dl.Map(style={'width': '1000px', 'height': '500px'},\n",
        "               center=[25, 45],\n",
        "               zoom=5,\n",
        "               children=[\n",
        "                   #dl.TileLayer(url=\"https://cartodb-basemaps-{s}.global.ssl.fastly.net/light_nolabels/{z}/{x}/{y}.png\"),\n",
        "                   #dl.GeoTIFFOverlay(id=GEOTIFF_ID, interactive=True, url=\"/assets/tz850.tiff\", band=1, opacity=0.8,\n",
        "                   #                  **color_domain),\n",
        "                   #dl.Colorbar(width=200, height=20, **color_domain, unit=\"°C\", style={'color': 'black'}),\n",
        "                   html.Div(id=GEOTIFF_MARKER_ID)\n",
        "               ]),\n",
        "    ]\n",
        "\n",
        "\n",
        "def register_example5(app):\n",
        "    @app.callback(Output(GEOTIFF_MARKER_ID, 'children'),\n",
        "                  [Input(GEOTIFF_ID, 'click_lat_lng_val')])\n",
        "    def geotiff_marker(x):\n",
        "        if x is not None:\n",
        "            lat, lon, val = x\n",
        "            return dl.Marker(position=[lat, lon], icon={\n",
        "                \"iconUrl\": \"https://github.com/thedirtyfew/dash-leaflet/tree/master/assets/thermometer.png\",\n",
        "                \"iconSize\": [40, 40],\n",
        "                \"iconAnchor\": [20, 36]\n",
        "            }, children=[\n",
        "                dl.Tooltip('{:.1f}°C'.format(val))\n",
        "            ])\n",
        "        else:\n",
        "            return None\n",
        "\n",
        "\n",
        "# endregion\n",
        "\n",
        "#app = dash.Dash(__name__, external_scripts=['https://codepen.io/chriddyp/pen/bWLwgP.css'])\n",
        "app = JupyterDash(external_scripts=[chroma], prevent_initial_callbacks=True)\n",
        "# Create layout.\n",
        "app.layout = html.Div(\n",
        "    render_example1() +\n",
        "    render_example2() +\n",
        "    render_example3() +\n",
        "    render_example4() \n",
        "    #render_example5()\n",
        ")\n",
        "# Bind callbacks.\n",
        "register_example1(app)\n",
        "register_example4(app)\n",
        "register_example5(app)\n",
        "\n",
        "\n",
        "if __name__ == '__main__':\n",
        "    app.run_server()\n",
        "\n",
        "app.run_server(mode='inline')"
      ]
    },
    {
      "attachments": {},
      "cell_type": "markdown",
      "metadata": {
        "id": "hdQ4vYtY-ziG"
      },
      "source": [
        "# **Muestra**"
      ]
    },
    {
      "cell_type": "code",
      "execution_count": null,
      "metadata": {
        "colab": {
          "base_uri": "https://localhost:8080/",
          "height": 934
        },
        "id": "TDVaQZLO-ydX",
        "outputId": "193c3656-3ff4-4792-d0cb-da074ac4fa5a"
      },
      "outputs": [
        {
          "name": "stderr",
          "output_type": "stream",
          "text": [
            "<ipython-input-51-203d01bc6052>:8: FutureWarning:\n",
            "\n",
            "Using short name for 'orient' is deprecated. Only the options: ('dict', list, 'series', 'split', 'records', 'index') will be used in a future version. Use one of the above to silence this warning.\n",
            "\n"
          ]
        },
        {
          "name": "stdout",
          "output_type": "stream",
          "text": [
            "Dash is running on http://127.0.0.1:8050/\n",
            "\n"
          ]
        },
        {
          "name": "stderr",
          "output_type": "stream",
          "text": [
            "INFO:dash.dash:Dash is running on http://127.0.0.1:8050/\n",
            "\n"
          ]
        },
        {
          "name": "stdout",
          "output_type": "stream",
          "text": [
            "Dash app running on:\n"
          ]
        },
        {
          "data": {
            "application/javascript": "(async (port, path, text, element) => {\n    if (!google.colab.kernel.accessAllowed) {\n      return;\n    }\n    element.appendChild(document.createTextNode(''));\n    const url = await google.colab.kernel.proxyPort(port);\n    const anchor = document.createElement('a');\n    anchor.href = new URL(path, url).toString();\n    anchor.target = '_blank';\n    anchor.setAttribute('data-href', url + path);\n    anchor.textContent = text;\n    element.appendChild(anchor);\n  })(8050, \"/\", \"http://127.0.0.1:8050/\", window.element)",
            "text/plain": [
              "<IPython.core.display.Javascript object>"
            ]
          },
          "metadata": {},
          "output_type": "display_data"
        },
        {
          "name": "stdout",
          "output_type": "stream",
          "text": [
            "Dash is running on http://127.0.0.1:8050/\n",
            "\n"
          ]
        },
        {
          "name": "stderr",
          "output_type": "stream",
          "text": [
            "INFO:dash.dash:Dash is running on http://127.0.0.1:8050/\n",
            "\n"
          ]
        },
        {
          "data": {
            "application/javascript": "(async (port, path, width, height, cache, element) => {\n    if (!google.colab.kernel.accessAllowed && !cache) {\n      return;\n    }\n    element.appendChild(document.createTextNode(''));\n    const url = await google.colab.kernel.proxyPort(port, {cache});\n    const iframe = document.createElement('iframe');\n    iframe.src = new URL(path, url).toString();\n    iframe.height = height;\n    iframe.width = width;\n    iframe.style.border = 0;\n    iframe.allow = [\n        'accelerometer',\n        'autoplay',\n        'camera',\n        'clipboard-read',\n        'clipboard-write',\n        'gyroscope',\n        'magnetometer',\n        'microphone',\n        'serial',\n        'usb',\n        'xr-spatial-tracking',\n    ].join('; ');\n    element.appendChild(iframe);\n  })(8050, \"/\", \"100%\", 650, false, window.element)",
            "text/plain": [
              "<IPython.core.display.Javascript object>"
            ]
          },
          "metadata": {},
          "output_type": "display_data"
        }
      ],
      "source": [
        "colorscale = ['red', 'yellow', 'green', 'blue', 'purple']  # rainbow\n",
        "chroma = \"https://cdnjs.cloudflare.com/ajax/libs/chroma-js/2.1.0/chroma.min.js\"  # js lib used for colors\n",
        "color_prop = 'density'\n",
        "# Pre process the data into geobuf.\n",
        "df = pd.read_csv(\"uscities.csv\")  # data from https://simplemaps.com/data/us-cities\n",
        "df = df[df['State'] == 'Washington']  # select one state\n",
        "df = df[['lat', 'lon', 'city', color_prop]]  # drop irrelevant columns\n",
        "dicts = df.to_dict('rows')\n",
        "for item in dicts:\n",
        "    item[\"tooltip\"] = \"{} ({:.1f})\".format(item['city'], item[color_prop])  # bind tooltip\n",
        "geojson = dlx.dicts_to_geojson(dicts, lon=\"lon\")  # convert to geojson\n",
        "geobuf = dlx.geojson_to_geobuf(geojson)  # convert to geobuf\n",
        "# Create a colorbar.\n",
        "vmax = df[color_prop].max()\n",
        "colorbar = dl.Colorbar(colorscale=colorscale, width=20, height=150, min=0, max=vmax, unit='/km2')\n",
        "# Geojson rendering logic, must be JavaScript as it is executed in clientside.\n",
        "point_to_layer = assign(\"\"\"function(feature, latlng, context){\n",
        "    const {min, max, colorscale, circleOptions, colorProp} = context.props.hideout;\n",
        "    const csc = chroma.scale(colorscale).domain([min, max]);  // chroma lib to construct colorscale\n",
        "    circleOptions.fillColor = csc(feature.properties[colorProp]);  // set color based on color prop.\n",
        "    return L.circleMarker(latlng, circleOptions);  // sender a simple circle marker.\n",
        "}\"\"\")\n",
        "cluster_to_layer = assign(\"\"\"function(feature, latlng, index, context){\n",
        "    const {min, max, colorscale, circleOptions, colorProp} = context.props.hideout;\n",
        "    const csc = chroma.scale(colorscale).domain([min, max]);\n",
        "    // Set color based on mean value of leaves.\n",
        "    const leaves = index.getLeaves(feature.properties.cluster_id);\n",
        "    let valueSum = 0;\n",
        "    for (let i = 0; i < leaves.length; ++i) {\n",
        "        valueSum += leaves[i].properties[colorProp]\n",
        "    }\n",
        "    const valueMean = valueSum / leaves.length;\n",
        "    // Render a circle with the number of leaves written in the center.\n",
        "    const icon = L.divIcon.scatter({\n",
        "        html: '<div style=\"background-color:white;\"><span>' + feature.properties.point_count_abbreviated + '</span></div>',\n",
        "        className: \"marker-cluster\",\n",
        "        iconSize: L.point(40, 40),\n",
        "        color: csc(valueMean)\n",
        "    });\n",
        "    return L.marker(latlng, {icon : icon})\n",
        "}\"\"\")\n",
        "# Create geojson.\n",
        "geojson = dl.GeoJSON(data=geobuf, id=\"geojson\", format=\"geobuf\",\n",
        "                     zoomToBounds=True,  # when true, zooms to bounds when data changes\n",
        "                     cluster=True,  # when true, data are clustered\n",
        "                     clusterToLayer=cluster_to_layer,  # how to draw clusters\n",
        "                     zoomToBoundsOnClick=True,  # when true, zooms to bounds of feature (e.g. cluster) on click\n",
        "                     options=dict(pointToLayer=point_to_layer),  # how to draw points\n",
        "                     superClusterOptions=dict(radius=150),   # adjust cluster size\n",
        "                     hideout=dict(colorProp=color_prop, circleOptions=dict(fillOpacity=1, stroke=False, radius=5),\n",
        "                                  min=0, max=vmax, colorscale=colorscale))\n",
        "# Create the app.\n",
        "#app = Dash(external_scripts=[chroma], prevent_initial_callbacks=True)\n",
        "app = JupyterDash(external_scripts=[chroma], prevent_initial_callbacks=True)\n",
        "app.layout = html.Div([\n",
        "    dl.Map([dl.TileLayer(), geojson, colorbar]),\n",
        "], style={'width': '100%', 'height': '50vh', 'margin': \"auto\", \"display\": \"block\", \"position\": \"relative\"})\n",
        "\n",
        "if __name__ == '__main__':\n",
        "    app.run_server()\n",
        "\n",
        "app.run_server(mode='inline')"
      ]
    },
    {
      "cell_type": "code",
      "execution_count": null,
      "metadata": {
        "colab": {
          "base_uri": "https://localhost:8080/",
          "height": 845
        },
        "id": "ignW71RJ_uRF",
        "outputId": "fdc7ef36-d19c-4d94-a0cf-65f7b1110887"
      },
      "outputs": [
        {
          "name": "stdout",
          "output_type": "stream",
          "text": [
            "Dash is running on http://127.0.0.1:8050/\n",
            "\n"
          ]
        },
        {
          "name": "stderr",
          "output_type": "stream",
          "text": [
            "INFO:dash.dash:Dash is running on http://127.0.0.1:8050/\n",
            "\n"
          ]
        },
        {
          "name": "stdout",
          "output_type": "stream",
          "text": [
            "Dash app running on:\n"
          ]
        },
        {
          "data": {
            "application/javascript": "(async (port, path, text, element) => {\n    if (!google.colab.kernel.accessAllowed) {\n      return;\n    }\n    element.appendChild(document.createTextNode(''));\n    const url = await google.colab.kernel.proxyPort(port);\n    const anchor = document.createElement('a');\n    anchor.href = new URL(path, url).toString();\n    anchor.target = '_blank';\n    anchor.setAttribute('data-href', url + path);\n    anchor.textContent = text;\n    element.appendChild(anchor);\n  })(8050, \"/\", \"http://127.0.0.1:8050/\", window.element)",
            "text/plain": [
              "<IPython.core.display.Javascript object>"
            ]
          },
          "metadata": {},
          "output_type": "display_data"
        },
        {
          "name": "stdout",
          "output_type": "stream",
          "text": [
            "Dash is running on http://127.0.0.1:8050/\n",
            "\n"
          ]
        },
        {
          "name": "stderr",
          "output_type": "stream",
          "text": [
            "INFO:dash.dash:Dash is running on http://127.0.0.1:8050/\n",
            "\n"
          ]
        },
        {
          "data": {
            "application/javascript": "(async (port, path, width, height, cache, element) => {\n    if (!google.colab.kernel.accessAllowed && !cache) {\n      return;\n    }\n    element.appendChild(document.createTextNode(''));\n    const url = await google.colab.kernel.proxyPort(port, {cache});\n    const iframe = document.createElement('iframe');\n    iframe.src = new URL(path, url).toString();\n    iframe.height = height;\n    iframe.width = width;\n    iframe.style.border = 0;\n    iframe.allow = [\n        'accelerometer',\n        'autoplay',\n        'camera',\n        'clipboard-read',\n        'clipboard-write',\n        'gyroscope',\n        'magnetometer',\n        'microphone',\n        'serial',\n        'usb',\n        'xr-spatial-tracking',\n    ].join('; ');\n    element.appendChild(iframe);\n  })(8050, \"/\", \"100%\", 650, false, window.element)",
            "text/plain": [
              "<IPython.core.display.Javascript object>"
            ]
          },
          "metadata": {},
          "output_type": "display_data"
        }
      ],
      "source": [
        "\n",
        "def get_info(feature=None):\n",
        "    header = [html.H4(\"US Population Density\")]\n",
        "    if not feature:\n",
        "        return header + [html.P(\"Hoover over a state\")]\n",
        "    return header + [html.B(feature[\"properties\"][\"name\"]), html.Br(),\n",
        "                     \"{:.3f} people / mi\".format(feature[\"properties\"][\"density\"]), html.Sup(\"2\")]\n",
        "\n",
        "\n",
        "classes = [0, 10, 20, 50, 100, 200, 500, 1000]\n",
        "colorscale = ['#FFEDA0', '#FED976', '#FEB24C', '#FD8D3C', '#FC4E2A', '#E31A1C', '#BD0026', '#800026']\n",
        "style = dict(weight=2, opacity=1, color='white', dashArray='3', fillOpacity=0.7)\n",
        "# Create colorbar.\n",
        "ctg = [\"{}+\".format(cls, classes[i + 1]) for i, cls in enumerate(classes[:-1])] + [\"{}+\".format(classes[-1])]\n",
        "colorbar = dlx.categorical_colorbar(categories=ctg, colorscale=colorscale, width=300, height=30, position=\"bottomleft\")\n",
        "# Geojson rendering logic, must be JavaScript as it is executed in clientside.\n",
        "style_handle = assign(\"\"\"function(feature, context){\n",
        "    const {classes, colorscale, style, colorProp} = context.props.hideout;  // get props from hideout\n",
        "    const value = feature.properties[colorProp];  // get value the determines the color\n",
        "    for (let i = 0; i < classes.length; ++i) {\n",
        "        if (value > classes[i]) {\n",
        "            style.fillColor = colorscale[i];  // set the fill color according to the class\n",
        "        }\n",
        "    }\n",
        "    return style;\n",
        "}\"\"\")\n",
        "# Create geojson.\n",
        "geojson = dl.GeoJSON(url=\"https://github.com/metabase/metabase/blob/master/resources/frontend_client/app/assets/geojson/us-states.json\",  # url to geojson file\n",
        "                     options=dict(style=style_handle),  # how to style each polygon\n",
        "                     zoomToBounds=True,  # when true, zooms to bounds when data changes (e.g. on load)\n",
        "                     zoomToBoundsOnClick=True,  # when true, zooms to bounds of feature (e.g. polygon) on click\n",
        "                     hoverStyle=arrow_function(dict(weight=5, color='#666', dashArray='')),  # style applied on hover\n",
        "                     hideout=dict(colorscale=colorscale, classes=classes, style=style, colorProp=\"density\"),\n",
        "                     id=\"geojson\")\n",
        "# Create info control.\n",
        "info = html.Div(children=get_info(), id=\"info\", className=\"info\",\n",
        "                style={\"position\": \"absolute\", \"top\": \"10px\", \"right\": \"10px\", \"z-index\": \"1000\"})\n",
        "# Create app.\n",
        "app = JupyterDash(external_scripts=[chroma], prevent_initial_callbacks=True)\n",
        "app.layout = html.Div([dl.Map(children=[dl.TileLayer(), geojson, colorbar, info])],\n",
        "                      style={'width': '100%', 'height': '50vh', 'margin': \"auto\", \"display\": \"block\"}, id=\"map\")\n",
        "\n",
        "\n",
        "@app.callback(Output(\"info\", \"children\"), [Input(\"geojson\", \"hover_feature\")])\n",
        "def info_hover(feature):\n",
        "    return get_info(feature)\n",
        "\n",
        "\n",
        "if __name__ == '__main__':\n",
        "    app.run_server()\n",
        "\n",
        "app.run_server(mode='inline')\n"
      ]
    },
    {
      "attachments": {},
      "cell_type": "markdown",
      "metadata": {
        "id": "vW2aWgdhOoQn"
      },
      "source": [
        "# **Ejemplo:** "
      ]
    },
    {
      "cell_type": "code",
      "execution_count": 41,
      "metadata": {
        "colab": {
          "base_uri": "https://localhost:8080/",
          "height": 845
        },
        "id": "jSmTM9dfOntW",
        "outputId": "e619519e-1b07-4601-859e-9c7ed73628d8"
      },
      "outputs": [
        {
          "name": "stdout",
          "output_type": "stream",
          "text": [
            "Dash is running on http://127.0.0.1:8050/\n",
            "\n"
          ]
        },
        {
          "name": "stderr",
          "output_type": "stream",
          "text": [
            "INFO:dash.dash:Dash is running on http://127.0.0.1:8050/\n",
            "\n"
          ]
        },
        {
          "name": "stdout",
          "output_type": "stream",
          "text": [
            "Dash app running on:\n"
          ]
        },
        {
          "data": {
            "application/javascript": "(async (port, path, text, element) => {\n    if (!google.colab.kernel.accessAllowed) {\n      return;\n    }\n    element.appendChild(document.createTextNode(''));\n    const url = await google.colab.kernel.proxyPort(port);\n    const anchor = document.createElement('a');\n    anchor.href = new URL(path, url).toString();\n    anchor.target = '_blank';\n    anchor.setAttribute('data-href', url + path);\n    anchor.textContent = text;\n    element.appendChild(anchor);\n  })(8050, \"/\", \"http://127.0.0.1:8050/\", window.element)",
            "text/plain": [
              "<IPython.core.display.Javascript object>"
            ]
          },
          "metadata": {},
          "output_type": "display_data"
        },
        {
          "name": "stdout",
          "output_type": "stream",
          "text": [
            "Dash is running on http://127.0.0.1:8050/\n",
            "\n"
          ]
        },
        {
          "name": "stderr",
          "output_type": "stream",
          "text": [
            "INFO:dash.dash:Dash is running on http://127.0.0.1:8050/\n",
            "\n"
          ]
        },
        {
          "data": {
            "application/javascript": "(async (port, path, width, height, cache, element) => {\n    if (!google.colab.kernel.accessAllowed && !cache) {\n      return;\n    }\n    element.appendChild(document.createTextNode(''));\n    const url = await google.colab.kernel.proxyPort(port, {cache});\n    const iframe = document.createElement('iframe');\n    iframe.src = new URL(path, url).toString();\n    iframe.height = height;\n    iframe.width = width;\n    iframe.style.border = 0;\n    iframe.allow = [\n        'accelerometer',\n        'autoplay',\n        'camera',\n        'clipboard-read',\n        'clipboard-write',\n        'gyroscope',\n        'magnetometer',\n        'microphone',\n        'serial',\n        'usb',\n        'xr-spatial-tracking',\n    ].join('; ');\n    element.appendChild(iframe);\n  })(8050, \"/\", \"100%\", 650, false, window.element)",
            "text/plain": [
              "<IPython.core.display.Javascript object>"
            ]
          },
          "metadata": {},
          "output_type": "display_data"
        }
      ],
      "source": [
        "import dash_leaflet as dl\n",
        "import dash_leaflet.express as dlx\n",
        "from dash import Dash, html, Output, Input\n",
        "from dash_extensions.javascript import arrow_function\n",
        "\n",
        "\n",
        "geojson_benef\n",
        "\n",
        "# Generate some in-memory\n",
        "beneficiarios = geojson_benef #dlx.dicts_to_geojson([dict(lat=32.299507, lon=-64.790337)])\n",
        "\n",
        "#biosfera = dlx.dicts_to_geojson([dict(lat=29.015, lon=-118.271)])#dlx.geojson_to_geobuf(dlx.dicts_to_geojson([dict(lat=29.015, lon=-118.271)]))\n",
        "# Create example app.\n",
        "app = JupyterDash(external_scripts=[chroma], prevent_initial_callbacks=True)\n",
        "app.layout = html.Div([\n",
        "    dl.Map(center=[19.43, 99.13], zoom=4, children=[\n",
        "        dl.TileLayer(),\n",
        "        dl.GeoJSON(data=beneficiarios),  # in-memory geojson (slowest option)\n",
        "        #dl.GeoJSON(data=biosfera),  # in-memory geobuf (smaller payload than geojson)\n",
        "        #dl.GeoJSON(url=\"https://gist.githubusercontent.com/mcwhittemore/1f81416ff74dd64decc6/raw/f34bddb3bf276a32b073ba79d0dd625a5735eedc/usa-state-capitals.geojson\", id=\"capitals\"),  # geojson resource (faster than in-memory)\n",
        "        dl.GeoJSON(url=\"https://raw.githubusercontent.com/SESNA-Inteligencia/Dashboard-1_1/master/datasets/estadosMexico.json\", id=\"states\",\n",
        "                   hoverStyle=arrow_function(dict(weight=5, color='#666', dashArray=''))),  # geobuf resource (fastest option)\n",
        "    ], style={'width': '100%', 'height': '50vh', 'margin': \"auto\", \"display\": \"block\"}, id=\"map\"),\n",
        "    html.Div(id=\"state\"), html.Div(id=\"capital\")\n",
        "])\n",
        "\n",
        "# callbacks\n",
        "@app.callback(Output(\"capital\", \"children\"), [Input(\"capitals\", \"click_feature\")])\n",
        "def capital_click(feature):\n",
        "    if feature is not None:\n",
        "        return f\"You clicked {feature['properties']['name']}\"\n",
        "\n",
        "@app.callback(Output(\"state\", \"children\"), [Input(\"states\", \"hover_feature\")])\n",
        "def state_hover(feature):\n",
        "    if feature is not None:\n",
        "        return f\"{feature['properties']['name']}\"\n",
        "\n",
        "if __name__ == '__main__':\n",
        "    app.run_server()\n",
        "\n",
        "app.run_server(mode='inline')"
      ]
    },
    {
      "attachments": {},
      "cell_type": "markdown",
      "metadata": {
        "id": "CxWKsNC3U894"
      },
      "source": [
        "# **Ejemplo con datos de SEGALMEX**"
      ]
    },
    {
      "cell_type": "code",
      "execution_count": null,
      "metadata": {
        "id": "g9kjJNIlU8GH"
      },
      "outputs": [],
      "source": [
        "import dash_leaflet as dl\n",
        "import dash_leaflet.express as dlx\n",
        "from dash import Dash, html, Output, Input\n",
        "from dash_extensions.javascript import arrow_function\n",
        "\n",
        "# Generate some in-memory\n",
        "bermuda = dlx.dicts_to_geojson([dict(lat=32.299507, lon=-64.790337)])\n",
        "print(bermuda)\n",
        "biosfera = dlx.dicts_to_geojson([dict(lat=29.015, lon=-118.271)])#dlx.geojson_to_geobuf(dlx.dicts_to_geojson([dict(lat=29.015, lon=-118.271)]))\n",
        "# Create example app.\n",
        "app = JupyterDash(external_scripts=[chroma], prevent_initial_callbacks=True)\n",
        "app.layout = html.Div([\n",
        "    dl.Map(center=[39, -98], zoom=4, children=[\n",
        "        dl.TileLayer(),\n",
        "        dl.GeoJSON(data=bermuda),  # in-memory geojson (slowest option)\n",
        "        dl.GeoJSON(data=biosfera),  # in-memory geobuf (smaller payload than geojson)\n",
        "        dl.GeoJSON(url=\"https://gist.githubusercontent.com/mcwhittemore/1f81416ff74dd64decc6/raw/f34bddb3bf276a32b073ba79d0dd625a5735eedc/usa-state-capitals.geojson\", id=\"capitals\"),  # geojson resource (faster than in-memory)\n",
        "        dl.GeoJSON(url=\"https://raw.githubusercontent.com/PublicaMundi/MappingAPI/master/data/geojson/us-states.json\", id=\"states\",\n",
        "                   hoverStyle=arrow_function(dict(weight=5, color='#666', dashArray=''))),  # geobuf resource (fastest option)\n",
        "    ], style={'width': '100%', 'height': '50vh', 'margin': \"auto\", \"display\": \"block\"}, id=\"map\"),\n",
        "    html.Div(id=\"state\"), html.Div(id=\"capital\")\n",
        "])\n",
        "\n",
        "# callbacks\n",
        "@app.callback(Output(\"capital\", \"children\"), [Input(\"capitals\", \"click_feature\")])\n",
        "def capital_click(feature):\n",
        "    if feature is not None:\n",
        "        return f\"You clicked {feature['properties']['name']}\"\n",
        "\n",
        "@app.callback(Output(\"state\", \"children\"), [Input(\"states\", \"hover_feature\")])\n",
        "def state_hover(feature):\n",
        "    if feature is not None:\n",
        "        return f\"{feature['properties']['name']}\"\n",
        "\n",
        "if __name__ == '__main__':\n",
        "    app.run_server()\n",
        "\n",
        "app.run_server(mode='inline')"
      ]
    }
  ],
  "metadata": {
    "colab": {
      "provenance": []
    },
    "kernelspec": {
      "display_name": "Python 3",
      "name": "python3"
    },
    "language_info": {
      "codemirror_mode": {
        "name": "ipython",
        "version": 3
      },
      "file_extension": ".py",
      "mimetype": "text/x-python",
      "name": "python",
      "nbconvert_exporter": "python",
      "pygments_lexer": "ipython3",
      "version": "3.9.13"
    }
  },
  "nbformat": 4,
  "nbformat_minor": 0
}
